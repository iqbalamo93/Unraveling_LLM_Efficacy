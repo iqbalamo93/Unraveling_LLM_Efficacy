{
 "cells": [
  {
   "cell_type": "code",
   "execution_count": 1,
   "id": "cf8a3fd4-5d41-48c7-9dae-a51bf74bafbb",
   "metadata": {},
   "outputs": [
    {
     "name": "stdout",
     "output_type": "stream",
     "text": [
      "Defaulting to user installation because normal site-packages is not writeable\n",
      "Requirement already satisfied: transformers in ./.local/lib/python3.8/site-packages (4.31.0)\n",
      "Requirement already satisfied: huggingface-hub<1.0,>=0.14.1 in ./.local/lib/python3.8/site-packages (from transformers) (0.16.4)\n",
      "Requirement already satisfied: filelock in /usr/lib/python3/dist-packages (from transformers) (3.0.12)\n",
      "Requirement already satisfied: regex!=2019.12.17 in ./.local/lib/python3.8/site-packages (from transformers) (2023.8.8)\n",
      "Requirement already satisfied: numpy>=1.17 in ./.local/lib/python3.8/site-packages (from transformers) (1.23.5)\n",
      "Requirement already satisfied: tqdm>=4.27 in ./.local/lib/python3.8/site-packages (from transformers) (4.64.1)\n",
      "Requirement already satisfied: packaging>=20.0 in ./.local/lib/python3.8/site-packages (from transformers) (23.0)\n",
      "Requirement already satisfied: requests in ./.local/lib/python3.8/site-packages (from transformers) (2.28.2)\n",
      "Requirement already satisfied: tokenizers!=0.11.3,<0.14,>=0.11.1 in ./.local/lib/python3.8/site-packages (from transformers) (0.13.3)\n",
      "Requirement already satisfied: safetensors>=0.3.1 in ./.local/lib/python3.8/site-packages (from transformers) (0.3.2)\n",
      "Requirement already satisfied: pyyaml>=5.1 in /usr/lib/python3/dist-packages (from transformers) (5.3.1)\n",
      "Requirement already satisfied: fsspec in /usr/lib/python3/dist-packages (from huggingface-hub<1.0,>=0.14.1->transformers) (0.6.1)\n",
      "Requirement already satisfied: typing-extensions>=3.7.4.3 in ./.local/lib/python3.8/site-packages (from huggingface-hub<1.0,>=0.14.1->transformers) (4.5.0)\n",
      "Requirement already satisfied: urllib3<1.27,>=1.21.1 in /usr/lib/python3/dist-packages (from requests->transformers) (1.25.8)\n",
      "Requirement already satisfied: charset-normalizer<4,>=2 in ./.local/lib/python3.8/site-packages (from requests->transformers) (3.1.0)\n",
      "Requirement already satisfied: idna<4,>=2.5 in /usr/lib/python3/dist-packages (from requests->transformers) (2.8)\n",
      "Requirement already satisfied: certifi>=2017.4.17 in /usr/lib/python3/dist-packages (from requests->transformers) (2019.11.28)\n",
      "\n",
      "\u001b[1m[\u001b[0m\u001b[34;49mnotice\u001b[0m\u001b[1;39;49m]\u001b[0m\u001b[39;49m A new release of pip is available: \u001b[0m\u001b[31;49m23.0.1\u001b[0m\u001b[39;49m -> \u001b[0m\u001b[32;49m23.2.1\u001b[0m\n",
      "\u001b[1m[\u001b[0m\u001b[34;49mnotice\u001b[0m\u001b[1;39;49m]\u001b[0m\u001b[39;49m To update, run: \u001b[0m\u001b[32;49mpython3 -m pip install --upgrade pip\u001b[0m\n",
      "Defaulting to user installation because normal site-packages is not writeable\n",
      "Requirement already satisfied: einops in ./.local/lib/python3.8/site-packages (0.6.1)\n",
      "\n",
      "\u001b[1m[\u001b[0m\u001b[34;49mnotice\u001b[0m\u001b[1;39;49m]\u001b[0m\u001b[39;49m A new release of pip is available: \u001b[0m\u001b[31;49m23.0.1\u001b[0m\u001b[39;49m -> \u001b[0m\u001b[32;49m23.2.1\u001b[0m\n",
      "\u001b[1m[\u001b[0m\u001b[34;49mnotice\u001b[0m\u001b[1;39;49m]\u001b[0m\u001b[39;49m To update, run: \u001b[0m\u001b[32;49mpython3 -m pip install --upgrade pip\u001b[0m\n",
      "Defaulting to user installation because normal site-packages is not writeable\n",
      "Requirement already satisfied: weightwatcher in ./.local/lib/python3.8/site-packages (0.7.1.5)\n",
      "Requirement already satisfied: matplotlib in ./.local/lib/python3.8/site-packages (from weightwatcher) (3.6.3)\n",
      "Requirement already satisfied: matplotlib-inline in ./.local/lib/python3.8/site-packages (from weightwatcher) (0.1.6)\n",
      "Requirement already satisfied: tqdm in ./.local/lib/python3.8/site-packages (from weightwatcher) (4.64.1)\n",
      "Requirement already satisfied: scikit-learn in /usr/lib/python3/dist-packages (from weightwatcher) (0.22.2.post1)\n",
      "Requirement already satisfied: numpy in ./.local/lib/python3.8/site-packages (from weightwatcher) (1.23.5)\n",
      "Requirement already satisfied: pandas in ./.local/lib/python3.8/site-packages (from weightwatcher) (1.5.3)\n",
      "Requirement already satisfied: powerlaw in ./.local/lib/python3.8/site-packages (from weightwatcher) (1.5)\n",
      "Requirement already satisfied: kiwisolver>=1.0.1 in /usr/lib/python3/dist-packages (from matplotlib->weightwatcher) (1.0.1)\n",
      "Requirement already satisfied: pyparsing>=2.2.1 in /usr/lib/python3/dist-packages (from matplotlib->weightwatcher) (2.4.6)\n",
      "Requirement already satisfied: fonttools>=4.22.0 in ./.local/lib/python3.8/site-packages (from matplotlib->weightwatcher) (4.39.0)\n",
      "Requirement already satisfied: cycler>=0.10 in /usr/lib/python3/dist-packages (from matplotlib->weightwatcher) (0.10.0)\n",
      "Requirement already satisfied: pillow>=6.2.0 in /usr/lib/python3/dist-packages (from matplotlib->weightwatcher) (7.0.0)\n",
      "Requirement already satisfied: python-dateutil>=2.7 in ./.local/lib/python3.8/site-packages (from matplotlib->weightwatcher) (2.8.2)\n",
      "Requirement already satisfied: contourpy>=1.0.1 in ./.local/lib/python3.8/site-packages (from matplotlib->weightwatcher) (1.0.7)\n",
      "Requirement already satisfied: packaging>=20.0 in ./.local/lib/python3.8/site-packages (from matplotlib->weightwatcher) (23.0)\n",
      "Requirement already satisfied: traitlets in ./.local/lib/python3.8/site-packages (from matplotlib-inline->weightwatcher) (5.9.0)\n",
      "Requirement already satisfied: pytz>=2020.1 in ./.local/lib/python3.8/site-packages (from pandas->weightwatcher) (2022.7.1)\n",
      "Requirement already satisfied: scipy in ./.local/lib/python3.8/site-packages (from powerlaw->weightwatcher) (1.9.3)\n",
      "Requirement already satisfied: mpmath in ./.local/lib/python3.8/site-packages (from powerlaw->weightwatcher) (1.3.0)\n",
      "Requirement already satisfied: six>=1.5 in /usr/lib/python3/dist-packages (from python-dateutil>=2.7->matplotlib->weightwatcher) (1.14.0)\n",
      "\n",
      "\u001b[1m[\u001b[0m\u001b[34;49mnotice\u001b[0m\u001b[1;39;49m]\u001b[0m\u001b[39;49m A new release of pip is available: \u001b[0m\u001b[31;49m23.0.1\u001b[0m\u001b[39;49m -> \u001b[0m\u001b[32;49m23.2.1\u001b[0m\n",
      "\u001b[1m[\u001b[0m\u001b[34;49mnotice\u001b[0m\u001b[1;39;49m]\u001b[0m\u001b[39;49m To update, run: \u001b[0m\u001b[32;49mpython3 -m pip install --upgrade pip\u001b[0m\n"
     ]
    }
   ],
   "source": [
    "!pip install transformers\n",
    "!pip install einops\n",
    "!pip install weightwatcher"
   ]
  },
  {
   "cell_type": "code",
   "execution_count": 2,
   "id": "948aa9a4-6307-4c67-b6dd-499af0be1b9c",
   "metadata": {},
   "outputs": [
    {
     "name": "stderr",
     "output_type": "stream",
     "text": [
      "/home/ubuntu/.local/lib/python3.8/site-packages/pandas/core/computation/expressions.py:20: UserWarning: Pandas requires version '2.7.3' or newer of 'numexpr' (version '2.7.1' currently installed).\n",
      "  from pandas.core.computation.check import NUMEXPR_INSTALLED\n"
     ]
    }
   ],
   "source": [
    "from transformers import AutoModel, AutoModelForCausalLM\n",
    "import weightwatcher as ww\n",
    "\n",
    "import matplotlib.pyplot as plt\n",
    "import numpy as np\n",
    "\n",
    "import pandas as pd\n",
    "pd.set_option('display.max_rows', 500)\n",
    "pd.set_option('display.max_columns', 500)\n",
    "\n",
    "import warnings\n",
    "import logging\n",
    "warnings.filterwarnings(\"ignore\")\n",
    "# Filter logs from WeightWatcher\n",
    "logging.getLogger(\"weightwatcher\").setLevel(logging.ERROR)\n",
    "\n",
    "# Set root logger level to WARNING\n",
    "logging.getLogger().setLevel(logging.WARNING)\n",
    "\n",
    "import matplotlib.pyplot as plt\n",
    "import seaborn as sns\n",
    "\n",
    "import time"
   ]
  },
  {
   "cell_type": "markdown",
   "id": "aadc16ee-6cd9-4fff-918e-bcc1dd592580",
   "metadata": {
    "tags": []
   },
   "source": [
    "## 14_StableBeluga_7B"
   ]
  },
  {
   "cell_type": "code",
   "execution_count": 3,
   "id": "5e25e3ee-a270-4c53-9f0e-8a9e6860438b",
   "metadata": {},
   "outputs": [
    {
     "data": {
      "application/vnd.jupyter.widget-view+json": {
       "model_id": "40cbffc65080458482f5819895299f4d",
       "version_major": 2,
       "version_minor": 0
      },
      "text/plain": [
       "Downloading (…)lve/main/config.json:   0%|          | 0.00/583 [00:00<?, ?B/s]"
      ]
     },
     "metadata": {},
     "output_type": "display_data"
    },
    {
     "data": {
      "application/vnd.jupyter.widget-view+json": {
       "model_id": "d8a7a08110be45c690459b19cbc34241",
       "version_major": 2,
       "version_minor": 0
      },
      "text/plain": [
       "Downloading (…)fetensors.index.json:   0%|          | 0.00/26.8k [00:00<?, ?B/s]"
      ]
     },
     "metadata": {},
     "output_type": "display_data"
    },
    {
     "data": {
      "application/vnd.jupyter.widget-view+json": {
       "model_id": "f742d67e85ab4756ae7b88829aa647e9",
       "version_major": 2,
       "version_minor": 0
      },
      "text/plain": [
       "Downloading shards:   0%|          | 0/2 [00:00<?, ?it/s]"
      ]
     },
     "metadata": {},
     "output_type": "display_data"
    },
    {
     "data": {
      "application/vnd.jupyter.widget-view+json": {
       "model_id": "77572635ba174419abfa9dc8ff56a871",
       "version_major": 2,
       "version_minor": 0
      },
      "text/plain": [
       "Downloading (…)of-00002.safetensors:   0%|          | 0.00/9.98G [00:00<?, ?B/s]"
      ]
     },
     "metadata": {},
     "output_type": "display_data"
    },
    {
     "data": {
      "application/vnd.jupyter.widget-view+json": {
       "model_id": "54d262867df946378ce28fdd3d31201e",
       "version_major": 2,
       "version_minor": 0
      },
      "text/plain": [
       "Downloading (…)of-00002.safetensors:   0%|          | 0.00/3.50G [00:00<?, ?B/s]"
      ]
     },
     "metadata": {},
     "output_type": "display_data"
    },
    {
     "data": {
      "application/vnd.jupyter.widget-view+json": {
       "model_id": "70a166e2105b491192a9db3303babff2",
       "version_major": 2,
       "version_minor": 0
      },
      "text/plain": [
       "Loading checkpoint shards:   0%|          | 0/2 [00:00<?, ?it/s]"
      ]
     },
     "metadata": {},
     "output_type": "display_data"
    },
    {
     "data": {
      "application/vnd.jupyter.widget-view+json": {
       "model_id": "04916edae1d2481ab0181e2bf0052d28",
       "version_major": 2,
       "version_minor": 0
      },
      "text/plain": [
       "Downloading (…)neration_config.json:   0%|          | 0.00/137 [00:00<?, ?B/s]"
      ]
     },
     "metadata": {},
     "output_type": "display_data"
    },
    {
     "name": "stdout",
     "output_type": "stream",
     "text": [
      "Executed the code in: 98.63147301799998 seconds\n"
     ]
    }
   ],
   "source": [
    "t0 = time.perf_counter()\n",
    "model_agpt_neo_20b = AutoModelForCausalLM.from_pretrained(\"stabilityai/StableBeluga-7B\")\n",
    "t1 = time.perf_counter()\n",
    "\n",
    "execution_time = t1 - t0\n",
    "\n",
    "print(f\"Executed the code in: {execution_time} seconds\")"
   ]
  },
  {
   "cell_type": "code",
   "execution_count": 4,
   "id": "a1ce970e-73cd-4c30-9378-a6db19aa8801",
   "metadata": {},
   "outputs": [
    {
     "name": "stdout",
     "output_type": "stream",
     "text": [
      "Executed the code in: 909.9112188380001 seconds\n"
     ]
    }
   ],
   "source": [
    "t0 = time.perf_counter()\n",
    "watcher_neo_gpt = ww.WeightWatcher(model=model_agpt_neo_20b)\n",
    "results_neo_gpt= watcher_neo_gpt.analyze()\n",
    "t1 = time.perf_counter()\n",
    "execution_time = t1 - t0\n",
    "\n",
    "print(f\"Executed the code in: {execution_time} seconds\")"
   ]
  },
  {
   "cell_type": "code",
   "execution_count": null,
   "id": "6a9ddb4c-12e7-40da-bee1-f465ed37cd40",
   "metadata": {},
   "outputs": [],
   "source": [
    "results_neo_gpt.to_csv('14_StableBeluga_7B.csv')"
   ]
  },
  {
   "cell_type": "markdown",
   "id": "0a077251-1e75-4c4e-957c-0e7485d8b70f",
   "metadata": {},
   "source": [
    "## 15_chronoboros-33B"
   ]
  },
  {
   "cell_type": "code",
   "execution_count": 4,
   "id": "8cea7b61-3214-4652-9c5e-c90ce6634e0f",
   "metadata": {},
   "outputs": [
    {
     "data": {
      "application/vnd.jupyter.widget-view+json": {
       "model_id": "330ce097338647f1a03fab3b4e8e3167",
       "version_major": 2,
       "version_minor": 0
      },
      "text/plain": [
       "Loading checkpoint shards:   0%|          | 0/7 [00:00<?, ?it/s]"
      ]
     },
     "metadata": {},
     "output_type": "display_data"
    },
    {
     "name": "stdout",
     "output_type": "stream",
     "text": [
      "Now Analysing....\n",
      "Executed the code in: 6713.211774171001 seconds\n"
     ]
    }
   ],
   "source": [
    "t0 = time.perf_counter()\n",
    "\n",
    "model=\"Henk717/chronoboros-33B\"\n",
    "file_name = '15_chronoboros_33.csv'\n",
    "\n",
    "#loading\n",
    "model = AutoModelForCausalLM.from_pretrained(\"Henk717/chronoboros-33B\" )\n",
    "\n",
    "#analysing\n",
    "print('Now Analysing....')\n",
    "watcher = ww.WeightWatcher(model=model)\n",
    "results= watcher.analyze()\n",
    "t1 = time.perf_counter()\n",
    "\n",
    "#Logging Execution time\n",
    "execution_time = t1 - t0\n",
    "print(f\"Executed the code in: {execution_time} seconds\")\n",
    "\n",
    "#Saving\n",
    "results.to_csv(file_name)"
   ]
  },
  {
   "cell_type": "markdown",
   "id": "8ed08c49-3069-4a40-aa23-f733d035afac",
   "metadata": {
    "tags": []
   },
   "source": [
    "## 16_SuperPlatty_30B"
   ]
  },
  {
   "cell_type": "code",
   "execution_count": 5,
   "id": "db66fae3-ceb8-4df8-ab23-f17950377af9",
   "metadata": {},
   "outputs": [
    {
     "data": {
      "application/vnd.jupyter.widget-view+json": {
       "model_id": "b181914bfe274d8a901ad43fe7b07404",
       "version_major": 2,
       "version_minor": 0
      },
      "text/plain": [
       "Loading checkpoint shards:   0%|          | 0/23 [00:00<?, ?it/s]"
      ]
     },
     "metadata": {},
     "output_type": "display_data"
    },
    {
     "data": {
      "application/vnd.jupyter.widget-view+json": {
       "model_id": "dc7404899627472d9df5ebdf9c6ea62f",
       "version_major": 2,
       "version_minor": 0
      },
      "text/plain": [
       "Downloading (…)neration_config.json:   0%|          | 0.00/137 [00:00<?, ?B/s]"
      ]
     },
     "metadata": {},
     "output_type": "display_data"
    },
    {
     "name": "stdout",
     "output_type": "stream",
     "text": [
      "Now Analysing....\n",
      "Executed the code in: 6722.893880976 seconds\n"
     ]
    }
   ],
   "source": [
    "try:\n",
    "    del model\n",
    "except NameError:\n",
    "    pass\n",
    "\n",
    "t0 = time.perf_counter()\n",
    "\n",
    "model=\"garage-bAInd/SuperPlatty-30B\"\n",
    "file_name = '16_SuperPlatty_30B.csv'\n",
    "\n",
    "#loading\n",
    "model = AutoModelForCausalLM.from_pretrained(model)\n",
    "\n",
    "#analysing\n",
    "print('Now Analysing....')\n",
    "watcher = ww.WeightWatcher(model=model)\n",
    "results= watcher.analyze()\n",
    "t1 = time.perf_counter()\n",
    "\n",
    "#Logging Execution time\n",
    "execution_time = t1 - t0\n",
    "print(f\"Executed the code in: {execution_time} seconds\")\n",
    "\n",
    "#Saving\n",
    "results.to_csv(file_name)"
   ]
  },
  {
   "cell_type": "markdown",
   "id": "31a69215-9021-46ad-b0e4-fd244a9ebce8",
   "metadata": {},
   "source": [
    "## 17_vigogne_chat_7B"
   ]
  },
  {
   "cell_type": "code",
   "execution_count": 3,
   "id": "7a68cdc2-20ed-4e14-b7f8-41d920b71b34",
   "metadata": {},
   "outputs": [
    {
     "data": {
      "application/vnd.jupyter.widget-view+json": {
       "model_id": "0a2c23c9ee28498c87e0ca0e2b948cd3",
       "version_major": 2,
       "version_minor": 0
      },
      "text/plain": [
       "Downloading (…)lve/main/config.json:   0%|          | 0.00/575 [00:00<?, ?B/s]"
      ]
     },
     "metadata": {},
     "output_type": "display_data"
    },
    {
     "data": {
      "application/vnd.jupyter.widget-view+json": {
       "model_id": "3fa517b2b9784f1eaa4d90c282556362",
       "version_major": 2,
       "version_minor": 0
      },
      "text/plain": [
       "Downloading (…)model.bin.index.json:   0%|          | 0.00/26.8k [00:00<?, ?B/s]"
      ]
     },
     "metadata": {},
     "output_type": "display_data"
    },
    {
     "data": {
      "application/vnd.jupyter.widget-view+json": {
       "model_id": "7e2bb498bbd44ab4868f8afbfc5caff1",
       "version_major": 2,
       "version_minor": 0
      },
      "text/plain": [
       "Downloading shards:   0%|          | 0/7 [00:00<?, ?it/s]"
      ]
     },
     "metadata": {},
     "output_type": "display_data"
    },
    {
     "data": {
      "application/vnd.jupyter.widget-view+json": {
       "model_id": "1bfe1af1aff44e10b25a066114b844f7",
       "version_major": 2,
       "version_minor": 0
      },
      "text/plain": [
       "Downloading (…)l-00001-of-00007.bin:   0%|          | 0.00/1.98G [00:00<?, ?B/s]"
      ]
     },
     "metadata": {},
     "output_type": "display_data"
    },
    {
     "data": {
      "application/vnd.jupyter.widget-view+json": {
       "model_id": "7b13d141a9504076bc784dbb4af3c6c4",
       "version_major": 2,
       "version_minor": 0
      },
      "text/plain": [
       "Downloading (…)l-00002-of-00007.bin:   0%|          | 0.00/1.99G [00:00<?, ?B/s]"
      ]
     },
     "metadata": {},
     "output_type": "display_data"
    },
    {
     "data": {
      "application/vnd.jupyter.widget-view+json": {
       "model_id": "1e0c7325181044b4948e8c5aba861c98",
       "version_major": 2,
       "version_minor": 0
      },
      "text/plain": [
       "Downloading (…)l-00003-of-00007.bin:   0%|          | 0.00/1.99G [00:00<?, ?B/s]"
      ]
     },
     "metadata": {},
     "output_type": "display_data"
    },
    {
     "data": {
      "application/vnd.jupyter.widget-view+json": {
       "model_id": "846e8d443a5c44bb92ec62b0066c22ae",
       "version_major": 2,
       "version_minor": 0
      },
      "text/plain": [
       "Downloading (…)l-00004-of-00007.bin:   0%|          | 0.00/1.99G [00:00<?, ?B/s]"
      ]
     },
     "metadata": {},
     "output_type": "display_data"
    },
    {
     "data": {
      "application/vnd.jupyter.widget-view+json": {
       "model_id": "7e3f2458063c489eb07d0bc1fa177a4f",
       "version_major": 2,
       "version_minor": 0
      },
      "text/plain": [
       "Downloading (…)l-00005-of-00007.bin:   0%|          | 0.00/1.93G [00:00<?, ?B/s]"
      ]
     },
     "metadata": {},
     "output_type": "display_data"
    },
    {
     "data": {
      "application/vnd.jupyter.widget-view+json": {
       "model_id": "0a15eea4f6e3434c929eada33c4ba668",
       "version_major": 2,
       "version_minor": 0
      },
      "text/plain": [
       "Downloading (…)l-00006-of-00007.bin:   0%|          | 0.00/1.93G [00:00<?, ?B/s]"
      ]
     },
     "metadata": {},
     "output_type": "display_data"
    },
    {
     "data": {
      "application/vnd.jupyter.widget-view+json": {
       "model_id": "2d3e6f063c1542479b7a1183543773d1",
       "version_major": 2,
       "version_minor": 0
      },
      "text/plain": [
       "Downloading (…)l-00007-of-00007.bin:   0%|          | 0.00/1.66G [00:00<?, ?B/s]"
      ]
     },
     "metadata": {},
     "output_type": "display_data"
    },
    {
     "data": {
      "application/vnd.jupyter.widget-view+json": {
       "model_id": "c805c2ea10354b86aa2a498ae4d1471d",
       "version_major": 2,
       "version_minor": 0
      },
      "text/plain": [
       "Loading checkpoint shards:   0%|          | 0/7 [00:00<?, ?it/s]"
      ]
     },
     "metadata": {},
     "output_type": "display_data"
    },
    {
     "data": {
      "application/vnd.jupyter.widget-view+json": {
       "model_id": "0225c0f4be804b869f61243e0827cd53",
       "version_major": 2,
       "version_minor": 0
      },
      "text/plain": [
       "Downloading (…)neration_config.json:   0%|          | 0.00/132 [00:00<?, ?B/s]"
      ]
     },
     "metadata": {},
     "output_type": "display_data"
    },
    {
     "name": "stdout",
     "output_type": "stream",
     "text": [
      "Now Analysing....\n",
      "Executed the code in: 1237.2964874690078 seconds\n"
     ]
    }
   ],
   "source": [
    "try:\n",
    "    del model\n",
    "except NameError:\n",
    "    pass\n",
    "\n",
    "t0 = time.perf_counter()\n",
    "\n",
    "model=\"bofenghuang/vigogne-7b-chat\"\n",
    "file_name = '17_vigogne_chat_7B.csv'\n",
    "\n",
    "#loading\n",
    "model = AutoModelForCausalLM.from_pretrained(model)\n",
    "\n",
    "#analysing\n",
    "print('Now Analysing....')\n",
    "watcher = ww.WeightWatcher(model=model)\n",
    "results= watcher.analyze()\n",
    "t1 = time.perf_counter()\n",
    "\n",
    "#Logging Execution time\n",
    "execution_time = t1 - t0\n",
    "print(f\"Executed the code in: {execution_time} seconds\")\n",
    "\n",
    "#Saving\n",
    "results.to_csv(file_name)"
   ]
  },
  {
   "cell_type": "markdown",
   "id": "d791b724-cd60-4933-864f-d611765ddd5d",
   "metadata": {},
   "source": [
    "## 18_Lazarus_30B"
   ]
  },
  {
   "cell_type": "code",
   "execution_count": null,
   "id": "1ee59997-afb3-42de-b1ba-a04eb79cf315",
   "metadata": {},
   "outputs": [
    {
     "data": {
      "application/vnd.jupyter.widget-view+json": {
       "model_id": "df3f1220a9654a1da79620f52bc7c31b",
       "version_major": 2,
       "version_minor": 0
      },
      "text/plain": [
       "Loading checkpoint shards:   0%|          | 0/7 [00:00<?, ?it/s]"
      ]
     },
     "metadata": {},
     "output_type": "display_data"
    },
    {
     "data": {
      "application/vnd.jupyter.widget-view+json": {
       "model_id": "965fa12a3c9c47508ea8c739e8db2167",
       "version_major": 2,
       "version_minor": 0
      },
      "text/plain": [
       "Downloading (…)neration_config.json:   0%|          | 0.00/132 [00:00<?, ?B/s]"
      ]
     },
     "metadata": {},
     "output_type": "display_data"
    },
    {
     "name": "stdout",
     "output_type": "stream",
     "text": [
      "Now Analysing....\n"
     ]
    }
   ],
   "source": [
    "try:\n",
    "    del model\n",
    "except NameError:\n",
    "    pass\n",
    "\n",
    "t0 = time.perf_counter()\n",
    "\n",
    "model=\"CalderaAI/30B-Lazarus\"\n",
    "file_name = '18_Lazarus_30B.csv'\n",
    "\n",
    "#loading\n",
    "model = AutoModelForCausalLM.from_pretrained(model)\n",
    "\n",
    "#analysing\n",
    "print('Now Analysing....')\n",
    "watcher = ww.WeightWatcher(model=model)\n",
    "results= watcher.analyze()\n",
    "t1 = time.perf_counter()\n",
    "\n",
    "#Logging Execution time\n",
    "execution_time = t1 - t0\n",
    "print(f\"Executed the code in: {execution_time} seconds\")\n",
    "\n",
    "#Saving\n",
    "results.to_csv(file_name)"
   ]
  },
  {
   "cell_type": "markdown",
   "id": "b0b97c5d-51f1-4847-ad30-ade4c176cfb8",
   "metadata": {},
   "source": [
    "## 19_h2ogpt_20b"
   ]
  },
  {
   "cell_type": "code",
   "execution_count": 2,
   "id": "2b747f7c-02ce-4295-8ca8-d3a966c82bea",
   "metadata": {},
   "outputs": [
    {
     "data": {
      "application/vnd.jupyter.widget-view+json": {
       "model_id": "f2e58afdf5634bd7b194188d210435fd",
       "version_major": 2,
       "version_minor": 0
      },
      "text/plain": [
       "Loading checkpoint shards:   0%|          | 0/9 [00:00<?, ?it/s]"
      ]
     },
     "metadata": {},
     "output_type": "display_data"
    },
    {
     "data": {
      "application/vnd.jupyter.widget-view+json": {
       "model_id": "709d698260b045a3985e8233e8262b45",
       "version_major": 2,
       "version_minor": 0
      },
      "text/plain": [
       "Downloading (…)neration_config.json:   0%|          | 0.00/111 [00:00<?, ?B/s]"
      ]
     },
     "metadata": {},
     "output_type": "display_data"
    },
    {
     "name": "stdout",
     "output_type": "stream",
     "text": [
      "Now Analysing....\n",
      "Executed the code in: 2711.8241767839936 seconds\n"
     ]
    }
   ],
   "source": [
    "try:\n",
    "    del model\n",
    "    del watcher\n",
    "    del results\n",
    "except NameError:\n",
    "    pass\n",
    "\n",
    "t0 = time.perf_counter()\n",
    "\n",
    "model=\"h2oai/h2ogpt-oasst1-512-20b\"\n",
    "file_name = '19_h2ogpt_20b.csv'\n",
    "\n",
    "#loading\n",
    "model = AutoModelForCausalLM.from_pretrained(model)\n",
    "\n",
    "#analysing\n",
    "print('Now Analysing....')\n",
    "watcher = ww.WeightWatcher(model=model)\n",
    "results= watcher.analyze()\n",
    "t1 = time.perf_counter()\n",
    "\n",
    "#Logging Execution time\n",
    "execution_time = t1 - t0\n",
    "print(f\"Executed the code in: {execution_time} seconds\")\n",
    "\n",
    "#Saving\n",
    "results.to_csv(file_name)"
   ]
  },
  {
   "cell_type": "markdown",
   "id": "91662db4-05a4-4e23-986b-c822889fdb23",
   "metadata": {},
   "source": [
    "## 20_pythia_12B"
   ]
  },
  {
   "cell_type": "code",
   "execution_count": 3,
   "id": "539b09ac-f86d-4b46-a127-53724471c876",
   "metadata": {},
   "outputs": [
    {
     "data": {
      "application/vnd.jupyter.widget-view+json": {
       "model_id": "6d42c34098e440c684f0327252cd5d2a",
       "version_major": 2,
       "version_minor": 0
      },
      "text/plain": [
       "Downloading (…)lve/main/config.json:   0%|          | 0.00/571 [00:00<?, ?B/s]"
      ]
     },
     "metadata": {},
     "output_type": "display_data"
    },
    {
     "data": {
      "application/vnd.jupyter.widget-view+json": {
       "model_id": "2b2c02ac0234431a8cea5fa783083f49",
       "version_major": 2,
       "version_minor": 0
      },
      "text/plain": [
       "Downloading (…)model.bin.index.json:   0%|          | 0.00/47.3k [00:00<?, ?B/s]"
      ]
     },
     "metadata": {},
     "output_type": "display_data"
    },
    {
     "data": {
      "application/vnd.jupyter.widget-view+json": {
       "model_id": "9b085545c5ce432881a8849a88c82d3c",
       "version_major": 2,
       "version_minor": 0
      },
      "text/plain": [
       "Downloading shards:   0%|          | 0/3 [00:00<?, ?it/s]"
      ]
     },
     "metadata": {},
     "output_type": "display_data"
    },
    {
     "data": {
      "application/vnd.jupyter.widget-view+json": {
       "model_id": "19849468ce8e4f56b578354300a2c41a",
       "version_major": 2,
       "version_minor": 0
      },
      "text/plain": [
       "Downloading (…)l-00001-of-00003.bin:   0%|          | 0.00/9.81G [00:00<?, ?B/s]"
      ]
     },
     "metadata": {},
     "output_type": "display_data"
    },
    {
     "data": {
      "application/vnd.jupyter.widget-view+json": {
       "model_id": "df283c5a900649fea3c447c1acd342f2",
       "version_major": 2,
       "version_minor": 0
      },
      "text/plain": [
       "Downloading (…)l-00002-of-00003.bin:   0%|          | 0.00/9.93G [00:00<?, ?B/s]"
      ]
     },
     "metadata": {},
     "output_type": "display_data"
    },
    {
     "data": {
      "application/vnd.jupyter.widget-view+json": {
       "model_id": "80d026845b4945ce84ab650a971e2ce8",
       "version_major": 2,
       "version_minor": 0
      },
      "text/plain": [
       "Downloading (…)l-00003-of-00003.bin:   0%|          | 0.00/4.11G [00:00<?, ?B/s]"
      ]
     },
     "metadata": {},
     "output_type": "display_data"
    },
    {
     "data": {
      "application/vnd.jupyter.widget-view+json": {
       "model_id": "661ec4038f6c4223bc9ae872688a703a",
       "version_major": 2,
       "version_minor": 0
      },
      "text/plain": [
       "Loading checkpoint shards:   0%|          | 0/3 [00:00<?, ?it/s]"
      ]
     },
     "metadata": {},
     "output_type": "display_data"
    },
    {
     "name": "stdout",
     "output_type": "stream",
     "text": [
      "Now Analysing....\n",
      "Executed the code in: 1609.2846276409982 seconds\n"
     ]
    }
   ],
   "source": [
    "try:\n",
    "    del model\n",
    "    del watcher\n",
    "    del results\n",
    "except NameError:\n",
    "    pass\n",
    "\n",
    "t0 = time.perf_counter()\n",
    "\n",
    "model=\"EleutherAI/pythia-12b\"\n",
    "file_name = '20_pythia_12B.csv'\n",
    "\n",
    "#loading\n",
    "model = AutoModelForCausalLM.from_pretrained(model)\n",
    "\n",
    "#analysing\n",
    "print('Now Analysing....')\n",
    "watcher = ww.WeightWatcher(model=model)\n",
    "results= watcher.analyze()\n",
    "t1 = time.perf_counter()\n",
    "\n",
    "#Logging Execution time\n",
    "execution_time = t1 - t0\n",
    "print(f\"Executed the code in: {execution_time} seconds\")\n",
    "\n",
    "#Saving\n",
    "results.to_csv(file_name)"
   ]
  },
  {
   "cell_type": "markdown",
   "id": "32321043-bd4a-4fbc-897a-bd71e54929ca",
   "metadata": {},
   "source": [
    "## 21_codegen_6B"
   ]
  },
  {
   "cell_type": "code",
   "execution_count": 3,
   "id": "53b0d6c1-a35e-4c5e-a7bf-e37b13aef71f",
   "metadata": {},
   "outputs": [
    {
     "name": "stdout",
     "output_type": "stream",
     "text": [
      "Now Analysing....\n",
      "Executed the code in: 642.3651456060034 seconds\n"
     ]
    }
   ],
   "source": [
    "try:\n",
    "    del model\n",
    "    del watcher\n",
    "    del results\n",
    "except NameError:\n",
    "    pass\n",
    "\n",
    "t0 = time.perf_counter()\n",
    "\n",
    "model=\"Salesforce/codegen-6B-nl\"\n",
    "file_name = '21_codegen_6B.csv'\n",
    "\n",
    "#loading\n",
    "model = AutoModelForCausalLM.from_pretrained(model)\n",
    "\n",
    "#analysing\n",
    "print('Now Analysing....')\n",
    "watcher = ww.WeightWatcher(model=model)\n",
    "results= watcher.analyze()\n",
    "t1 = time.perf_counter()\n",
    "\n",
    "#Logging Execution time\n",
    "execution_time = t1 - t0\n",
    "print(f\"Executed the code in: {execution_time} seconds\")\n",
    "\n",
    "#Saving\n",
    "results.to_csv(file_name)"
   ]
  },
  {
   "cell_type": "markdown",
   "id": "7214c96c-f9e2-4c86-91cf-e864251c68ac",
   "metadata": {},
   "source": [
    "## 22_llama_13b"
   ]
  },
  {
   "cell_type": "code",
   "execution_count": 4,
   "id": "176e966a-2eb8-46ae-b2ed-d0526bd32d6f",
   "metadata": {},
   "outputs": [
    {
     "data": {
      "application/vnd.jupyter.widget-view+json": {
       "model_id": "971e3fa4366641e8965eb030003679f1",
       "version_major": 2,
       "version_minor": 0
      },
      "text/plain": [
       "Downloading (…)lve/main/config.json:   0%|          | 0.00/595 [00:00<?, ?B/s]"
      ]
     },
     "metadata": {},
     "output_type": "display_data"
    },
    {
     "data": {
      "application/vnd.jupyter.widget-view+json": {
       "model_id": "1f48197348714f4e80e6202abb16cdcf",
       "version_major": 2,
       "version_minor": 0
      },
      "text/plain": [
       "Downloading (…)fetensors.index.json:   0%|          | 0.00/33.4k [00:00<?, ?B/s]"
      ]
     },
     "metadata": {},
     "output_type": "display_data"
    },
    {
     "data": {
      "application/vnd.jupyter.widget-view+json": {
       "model_id": "2059652cb5064361991f892ac1b47cd1",
       "version_major": 2,
       "version_minor": 0
      },
      "text/plain": [
       "Downloading shards:   0%|          | 0/3 [00:00<?, ?it/s]"
      ]
     },
     "metadata": {},
     "output_type": "display_data"
    },
    {
     "data": {
      "application/vnd.jupyter.widget-view+json": {
       "model_id": "a9c7e8673cb04388bb43305839d3787f",
       "version_major": 2,
       "version_minor": 0
      },
      "text/plain": [
       "Downloading (…)of-00003.safetensors:   0%|          | 0.00/9.95G [00:00<?, ?B/s]"
      ]
     },
     "metadata": {},
     "output_type": "display_data"
    },
    {
     "data": {
      "application/vnd.jupyter.widget-view+json": {
       "model_id": "89da4eab8f064f2093a661d13d539837",
       "version_major": 2,
       "version_minor": 0
      },
      "text/plain": [
       "Downloading (…)of-00003.safetensors:   0%|          | 0.00/9.90G [00:00<?, ?B/s]"
      ]
     },
     "metadata": {},
     "output_type": "display_data"
    },
    {
     "data": {
      "application/vnd.jupyter.widget-view+json": {
       "model_id": "e4e00c2104a34167aea36dd306abb74d",
       "version_major": 2,
       "version_minor": 0
      },
      "text/plain": [
       "Downloading (…)of-00003.safetensors:   0%|          | 0.00/6.18G [00:00<?, ?B/s]"
      ]
     },
     "metadata": {},
     "output_type": "display_data"
    },
    {
     "data": {
      "application/vnd.jupyter.widget-view+json": {
       "model_id": "d3a6c2583c9f4281ae487e57c2f2994f",
       "version_major": 2,
       "version_minor": 0
      },
      "text/plain": [
       "Loading checkpoint shards:   0%|          | 0/3 [00:00<?, ?it/s]"
      ]
     },
     "metadata": {},
     "output_type": "display_data"
    },
    {
     "data": {
      "application/vnd.jupyter.widget-view+json": {
       "model_id": "bea967388e1c4558a0af5bb1b373916a",
       "version_major": 2,
       "version_minor": 0
      },
      "text/plain": [
       "Downloading (…)neration_config.json:   0%|          | 0.00/137 [00:00<?, ?B/s]"
      ]
     },
     "metadata": {},
     "output_type": "display_data"
    },
    {
     "name": "stdout",
     "output_type": "stream",
     "text": [
      "Now Analysing....\n",
      "Executed the code in: 2783.8472577290086 seconds\n"
     ]
    }
   ],
   "source": [
    "try:\n",
    "    del model\n",
    "    del watcher\n",
    "    del results\n",
    "except NameError:\n",
    "    pass\n",
    "\n",
    "t0 = time.perf_counter()\n",
    "\n",
    "model=\"huggyllama/llama-13b\"\n",
    "file_name = '22_llama_13b.csv'\n",
    "\n",
    "#loading\n",
    "model = AutoModelForCausalLM.from_pretrained(model)\n",
    "\n",
    "#analysing\n",
    "print('Now Analysing....')\n",
    "watcher = ww.WeightWatcher(model=model)\n",
    "results= watcher.analyze()\n",
    "t1 = time.perf_counter()\n",
    "\n",
    "#Logging Execution time\n",
    "execution_time = t1 - t0\n",
    "print(f\"Executed the code in: {execution_time} seconds\")\n",
    "\n",
    "#Saving\n",
    "results.to_csv(file_name)"
   ]
  },
  {
   "cell_type": "markdown",
   "id": "067b0f30-33a2-4512-9409-238963e6ac9d",
   "metadata": {},
   "source": [
    "## 23_Alpacino_30B"
   ]
  },
  {
   "cell_type": "code",
   "execution_count": 6,
   "id": "a9a3f8d3-6c11-4155-a485-9072c3ace5a9",
   "metadata": {},
   "outputs": [
    {
     "data": {
      "application/vnd.jupyter.widget-view+json": {
       "model_id": "2fca7f34c9db42519d760d06e2a126d0",
       "version_major": 2,
       "version_minor": 0
      },
      "text/plain": [
       "Downloading (…)lve/main/config.json:   0%|          | 0.00/576 [00:00<?, ?B/s]"
      ]
     },
     "metadata": {},
     "output_type": "display_data"
    },
    {
     "data": {
      "application/vnd.jupyter.widget-view+json": {
       "model_id": "e7653e312dff48d6ae1f2c4f91f2a62a",
       "version_major": 2,
       "version_minor": 0
      },
      "text/plain": [
       "Downloading (…)model.bin.index.json:   0%|          | 0.00/50.1k [00:00<?, ?B/s]"
      ]
     },
     "metadata": {},
     "output_type": "display_data"
    },
    {
     "data": {
      "application/vnd.jupyter.widget-view+json": {
       "model_id": "8e738676a60b497e8eaec86563fe9e0d",
       "version_major": 2,
       "version_minor": 0
      },
      "text/plain": [
       "Downloading shards:   0%|          | 0/33 [00:00<?, ?it/s]"
      ]
     },
     "metadata": {},
     "output_type": "display_data"
    },
    {
     "data": {
      "application/vnd.jupyter.widget-view+json": {
       "model_id": "47268c12e55e4b41a60accff8abb80f0",
       "version_major": 2,
       "version_minor": 0
      },
      "text/plain": [
       "Downloading (…)l-00001-of-00033.bin:   0%|          | 0.00/2.09G [00:00<?, ?B/s]"
      ]
     },
     "metadata": {},
     "output_type": "display_data"
    },
    {
     "data": {
      "application/vnd.jupyter.widget-view+json": {
       "model_id": "e1d636b5db724777a340055b5f14421d",
       "version_major": 2,
       "version_minor": 0
      },
      "text/plain": [
       "Downloading (…)l-00002-of-00033.bin:   0%|          | 0.00/1.90G [00:00<?, ?B/s]"
      ]
     },
     "metadata": {},
     "output_type": "display_data"
    },
    {
     "data": {
      "application/vnd.jupyter.widget-view+json": {
       "model_id": "95ac03415e7c4586b89653b0f1e453a2",
       "version_major": 2,
       "version_minor": 0
      },
      "text/plain": [
       "Downloading (…)l-00003-of-00033.bin:   0%|          | 0.00/2.05G [00:00<?, ?B/s]"
      ]
     },
     "metadata": {},
     "output_type": "display_data"
    },
    {
     "data": {
      "application/vnd.jupyter.widget-view+json": {
       "model_id": "b21b5bf0e4934c10aa1c8c73920be560",
       "version_major": 2,
       "version_minor": 0
      },
      "text/plain": [
       "Downloading (…)l-00004-of-00033.bin:   0%|          | 0.00/2.05G [00:00<?, ?B/s]"
      ]
     },
     "metadata": {},
     "output_type": "display_data"
    },
    {
     "data": {
      "application/vnd.jupyter.widget-view+json": {
       "model_id": "100bd754a7c04c51856bfcf9827e971e",
       "version_major": 2,
       "version_minor": 0
      },
      "text/plain": [
       "Downloading (…)l-00005-of-00033.bin:   0%|          | 0.00/2.05G [00:00<?, ?B/s]"
      ]
     },
     "metadata": {},
     "output_type": "display_data"
    },
    {
     "data": {
      "application/vnd.jupyter.widget-view+json": {
       "model_id": "8b1f5d45d45f4ba4a231cbd2f20c45b8",
       "version_major": 2,
       "version_minor": 0
      },
      "text/plain": [
       "Downloading (…)l-00006-of-00033.bin:   0%|          | 0.00/2.05G [00:00<?, ?B/s]"
      ]
     },
     "metadata": {},
     "output_type": "display_data"
    },
    {
     "data": {
      "application/vnd.jupyter.widget-view+json": {
       "model_id": "21fb696df74d4176ad108d9c1f2860de",
       "version_major": 2,
       "version_minor": 0
      },
      "text/plain": [
       "Downloading (…)l-00007-of-00033.bin:   0%|          | 0.00/1.90G [00:00<?, ?B/s]"
      ]
     },
     "metadata": {},
     "output_type": "display_data"
    },
    {
     "data": {
      "application/vnd.jupyter.widget-view+json": {
       "model_id": "1e0de92ce68447638d7f25e09cb30572",
       "version_major": 2,
       "version_minor": 0
      },
      "text/plain": [
       "Downloading (…)l-00008-of-00033.bin:   0%|          | 0.00/1.90G [00:00<?, ?B/s]"
      ]
     },
     "metadata": {},
     "output_type": "display_data"
    },
    {
     "data": {
      "application/vnd.jupyter.widget-view+json": {
       "model_id": "af7a028ad8ef464b966d5f1c9487b338",
       "version_major": 2,
       "version_minor": 0
      },
      "text/plain": [
       "Downloading (…)l-00009-of-00033.bin:   0%|          | 0.00/1.90G [00:00<?, ?B/s]"
      ]
     },
     "metadata": {},
     "output_type": "display_data"
    },
    {
     "data": {
      "application/vnd.jupyter.widget-view+json": {
       "model_id": "49899c5144e14e7c8c60c7eadeaf6605",
       "version_major": 2,
       "version_minor": 0
      },
      "text/plain": [
       "Downloading (…)l-00010-of-00033.bin:   0%|          | 0.00/2.05G [00:00<?, ?B/s]"
      ]
     },
     "metadata": {},
     "output_type": "display_data"
    },
    {
     "data": {
      "application/vnd.jupyter.widget-view+json": {
       "model_id": "6c1f6c4e9d954242acae741f0e4ccdc0",
       "version_major": 2,
       "version_minor": 0
      },
      "text/plain": [
       "Downloading (…)l-00011-of-00033.bin:   0%|          | 0.00/2.05G [00:00<?, ?B/s]"
      ]
     },
     "metadata": {},
     "output_type": "display_data"
    },
    {
     "data": {
      "application/vnd.jupyter.widget-view+json": {
       "model_id": "df0b4b654bda4887a366e8db39e5662d",
       "version_major": 2,
       "version_minor": 0
      },
      "text/plain": [
       "Downloading (…)l-00012-of-00033.bin:   0%|          | 0.00/2.05G [00:00<?, ?B/s]"
      ]
     },
     "metadata": {},
     "output_type": "display_data"
    },
    {
     "data": {
      "application/vnd.jupyter.widget-view+json": {
       "model_id": "ba384c351b4844f780a176fb824ae5e8",
       "version_major": 2,
       "version_minor": 0
      },
      "text/plain": [
       "Downloading (…)l-00013-of-00033.bin:   0%|          | 0.00/2.05G [00:00<?, ?B/s]"
      ]
     },
     "metadata": {},
     "output_type": "display_data"
    },
    {
     "data": {
      "application/vnd.jupyter.widget-view+json": {
       "model_id": "9cfc2350d7be4187958c3712f882388e",
       "version_major": 2,
       "version_minor": 0
      },
      "text/plain": [
       "Downloading (…)l-00014-of-00033.bin:   0%|          | 0.00/1.90G [00:00<?, ?B/s]"
      ]
     },
     "metadata": {},
     "output_type": "display_data"
    },
    {
     "data": {
      "application/vnd.jupyter.widget-view+json": {
       "model_id": "231d58a96d7f4ee1b03bcbff5960a9e3",
       "version_major": 2,
       "version_minor": 0
      },
      "text/plain": [
       "Downloading (…)l-00015-of-00033.bin:   0%|          | 0.00/1.90G [00:00<?, ?B/s]"
      ]
     },
     "metadata": {},
     "output_type": "display_data"
    },
    {
     "data": {
      "application/vnd.jupyter.widget-view+json": {
       "model_id": "8896e7f233564dfdadbeafc079246356",
       "version_major": 2,
       "version_minor": 0
      },
      "text/plain": [
       "Downloading (…)l-00016-of-00033.bin:   0%|          | 0.00/1.90G [00:00<?, ?B/s]"
      ]
     },
     "metadata": {},
     "output_type": "display_data"
    },
    {
     "data": {
      "application/vnd.jupyter.widget-view+json": {
       "model_id": "686ba8ee2ae847b4a973a7183cd50fb1",
       "version_major": 2,
       "version_minor": 0
      },
      "text/plain": [
       "Downloading (…)l-00017-of-00033.bin:   0%|          | 0.00/2.05G [00:00<?, ?B/s]"
      ]
     },
     "metadata": {},
     "output_type": "display_data"
    },
    {
     "data": {
      "application/vnd.jupyter.widget-view+json": {
       "model_id": "bb376a1b068c4626a4c436d51f029ff3",
       "version_major": 2,
       "version_minor": 0
      },
      "text/plain": [
       "Downloading (…)l-00018-of-00033.bin:   0%|          | 0.00/2.05G [00:00<?, ?B/s]"
      ]
     },
     "metadata": {},
     "output_type": "display_data"
    },
    {
     "data": {
      "application/vnd.jupyter.widget-view+json": {
       "model_id": "963bd56dd90643319fe654b9c368d3cf",
       "version_major": 2,
       "version_minor": 0
      },
      "text/plain": [
       "Downloading (…)l-00019-of-00033.bin:   0%|          | 0.00/2.05G [00:00<?, ?B/s]"
      ]
     },
     "metadata": {},
     "output_type": "display_data"
    },
    {
     "data": {
      "application/vnd.jupyter.widget-view+json": {
       "model_id": "a2c703cb036d4adaaa8459455ab8f7d7",
       "version_major": 2,
       "version_minor": 0
      },
      "text/plain": [
       "Downloading (…)l-00020-of-00033.bin:   0%|          | 0.00/2.05G [00:00<?, ?B/s]"
      ]
     },
     "metadata": {},
     "output_type": "display_data"
    },
    {
     "data": {
      "application/vnd.jupyter.widget-view+json": {
       "model_id": "889e0fdc6d5a4072a4f394cffa6a9203",
       "version_major": 2,
       "version_minor": 0
      },
      "text/plain": [
       "Downloading (…)l-00021-of-00033.bin:   0%|          | 0.00/1.90G [00:00<?, ?B/s]"
      ]
     },
     "metadata": {},
     "output_type": "display_data"
    },
    {
     "data": {
      "application/vnd.jupyter.widget-view+json": {
       "model_id": "88134bbea0494c40bfaa58d562001659",
       "version_major": 2,
       "version_minor": 0
      },
      "text/plain": [
       "Downloading (…)l-00022-of-00033.bin:   0%|          | 0.00/1.90G [00:00<?, ?B/s]"
      ]
     },
     "metadata": {},
     "output_type": "display_data"
    },
    {
     "data": {
      "application/vnd.jupyter.widget-view+json": {
       "model_id": "b112ee89bad847daae3afb041543f6fa",
       "version_major": 2,
       "version_minor": 0
      },
      "text/plain": [
       "Downloading (…)l-00023-of-00033.bin:   0%|          | 0.00/1.90G [00:00<?, ?B/s]"
      ]
     },
     "metadata": {},
     "output_type": "display_data"
    },
    {
     "data": {
      "application/vnd.jupyter.widget-view+json": {
       "model_id": "ffe6506c19ee41b99975fc61ccfe03b0",
       "version_major": 2,
       "version_minor": 0
      },
      "text/plain": [
       "Downloading (…)l-00024-of-00033.bin:   0%|          | 0.00/2.05G [00:00<?, ?B/s]"
      ]
     },
     "metadata": {},
     "output_type": "display_data"
    },
    {
     "data": {
      "application/vnd.jupyter.widget-view+json": {
       "model_id": "5e0e7cf99d1a4867b8936a6b9468c52a",
       "version_major": 2,
       "version_minor": 0
      },
      "text/plain": [
       "Downloading (…)l-00025-of-00033.bin:   0%|          | 0.00/2.05G [00:00<?, ?B/s]"
      ]
     },
     "metadata": {},
     "output_type": "display_data"
    },
    {
     "data": {
      "application/vnd.jupyter.widget-view+json": {
       "model_id": "b241ab2b97f14728a5297a8349b7d373",
       "version_major": 2,
       "version_minor": 0
      },
      "text/plain": [
       "Downloading (…)l-00026-of-00033.bin:   0%|          | 0.00/2.05G [00:00<?, ?B/s]"
      ]
     },
     "metadata": {},
     "output_type": "display_data"
    },
    {
     "data": {
      "application/vnd.jupyter.widget-view+json": {
       "model_id": "83dc25cd621d43f1b2ee3d0f3b1538b9",
       "version_major": 2,
       "version_minor": 0
      },
      "text/plain": [
       "Downloading (…)l-00027-of-00033.bin:   0%|          | 0.00/2.05G [00:00<?, ?B/s]"
      ]
     },
     "metadata": {},
     "output_type": "display_data"
    },
    {
     "data": {
      "application/vnd.jupyter.widget-view+json": {
       "model_id": "42755f2f30b8486e83880305094143ff",
       "version_major": 2,
       "version_minor": 0
      },
      "text/plain": [
       "Downloading (…)l-00028-of-00033.bin:   0%|          | 0.00/1.90G [00:00<?, ?B/s]"
      ]
     },
     "metadata": {},
     "output_type": "display_data"
    },
    {
     "data": {
      "application/vnd.jupyter.widget-view+json": {
       "model_id": "4968a0cd599141f48127fd821b20bff1",
       "version_major": 2,
       "version_minor": 0
      },
      "text/plain": [
       "Downloading (…)l-00029-of-00033.bin:   0%|          | 0.00/1.90G [00:00<?, ?B/s]"
      ]
     },
     "metadata": {},
     "output_type": "display_data"
    },
    {
     "data": {
      "application/vnd.jupyter.widget-view+json": {
       "model_id": "693f4e6788744d66a6bb2b98e609deb4",
       "version_major": 2,
       "version_minor": 0
      },
      "text/plain": [
       "Downloading (…)l-00030-of-00033.bin:   0%|          | 0.00/1.90G [00:00<?, ?B/s]"
      ]
     },
     "metadata": {},
     "output_type": "display_data"
    },
    {
     "data": {
      "application/vnd.jupyter.widget-view+json": {
       "model_id": "8d3d6fede5c846f09f97caefc0de331c",
       "version_major": 2,
       "version_minor": 0
      },
      "text/plain": [
       "Downloading (…)l-00031-of-00033.bin:   0%|          | 0.00/2.05G [00:00<?, ?B/s]"
      ]
     },
     "metadata": {},
     "output_type": "display_data"
    },
    {
     "data": {
      "application/vnd.jupyter.widget-view+json": {
       "model_id": "d1feb5a79b294d7388b2a8f362fb14f6",
       "version_major": 2,
       "version_minor": 0
      },
      "text/plain": [
       "Downloading (…)l-00032-of-00033.bin:   0%|          | 0.00/2.05G [00:00<?, ?B/s]"
      ]
     },
     "metadata": {},
     "output_type": "display_data"
    },
    {
     "data": {
      "application/vnd.jupyter.widget-view+json": {
       "model_id": "151eec2a4bc64af8bcc66e1c94767618",
       "version_major": 2,
       "version_minor": 0
      },
      "text/plain": [
       "Downloading (…)l-00033-of-00033.bin:   0%|          | 0.00/1.32G [00:00<?, ?B/s]"
      ]
     },
     "metadata": {},
     "output_type": "display_data"
    },
    {
     "data": {
      "application/vnd.jupyter.widget-view+json": {
       "model_id": "a3f4c8c9ba854b7aac9b7f7ae0f4a408",
       "version_major": 2,
       "version_minor": 0
      },
      "text/plain": [
       "Loading checkpoint shards:   0%|          | 0/33 [00:00<?, ?it/s]"
      ]
     },
     "metadata": {},
     "output_type": "display_data"
    },
    {
     "data": {
      "application/vnd.jupyter.widget-view+json": {
       "model_id": "527429b93d9f4dffb755748aebc3c1ed",
       "version_major": 2,
       "version_minor": 0
      },
      "text/plain": [
       "Downloading (…)neration_config.json:   0%|          | 0.00/137 [00:00<?, ?B/s]"
      ]
     },
     "metadata": {},
     "output_type": "display_data"
    },
    {
     "name": "stdout",
     "output_type": "stream",
     "text": [
      "Now Analysing....\n",
      "Executed the code in: 8237.907061406993 seconds\n"
     ]
    }
   ],
   "source": [
    "try:\n",
    "    del model\n",
    "    del watcher\n",
    "    del results\n",
    "except NameError:\n",
    "    pass\n",
    "\n",
    "t0 = time.perf_counter()\n",
    "\n",
    "model=\"digitous/Alpacino30b\"\n",
    "file_name = '23_Alpacino_30B.csv'\n",
    "\n",
    "#loading\n",
    "model = AutoModelForCausalLM.from_pretrained(model)\n",
    "\n",
    "#analysing\n",
    "print('Now Analysing....')\n",
    "watcher = ww.WeightWatcher(model=model)\n",
    "results= watcher.analyze()\n",
    "t1 = time.perf_counter()\n",
    "\n",
    "print('saving Results....')\n",
    "\n",
    "#Saving\n",
    "results.to_csv(file_name)\n",
    "\n",
    "#Logging Execution time\n",
    "execution_time = t1 - t0\n",
    "print(f\"Executed the code in: {execution_time} seconds\")"
   ]
  },
  {
   "cell_type": "markdown",
   "id": "0c8aedd2-2047-47d9-aa5b-627ec29da8cd",
   "metadata": {},
   "source": [
    "## 24_ORCA_MINI_13B"
   ]
  },
  {
   "cell_type": "code",
   "execution_count": 7,
   "id": "49eba8f4-878c-4947-80c7-598e08735022",
   "metadata": {},
   "outputs": [
    {
     "data": {
      "application/vnd.jupyter.widget-view+json": {
       "model_id": "b270bda590a0443ca958dada43f6c460",
       "version_major": 2,
       "version_minor": 0
      },
      "text/plain": [
       "Downloading (…)lve/main/config.json:   0%|          | 0.00/555 [00:00<?, ?B/s]"
      ]
     },
     "metadata": {},
     "output_type": "display_data"
    },
    {
     "data": {
      "application/vnd.jupyter.widget-view+json": {
       "model_id": "caccbd7588ab4205a5544b61236302e8",
       "version_major": 2,
       "version_minor": 0
      },
      "text/plain": [
       "Downloading (…)model.bin.index.json:   0%|          | 0.00/33.4k [00:00<?, ?B/s]"
      ]
     },
     "metadata": {},
     "output_type": "display_data"
    },
    {
     "data": {
      "application/vnd.jupyter.widget-view+json": {
       "model_id": "fc30504984a24bb5af6a5b2e93673f22",
       "version_major": 2,
       "version_minor": 0
      },
      "text/plain": [
       "Downloading shards:   0%|          | 0/11 [00:00<?, ?it/s]"
      ]
     },
     "metadata": {},
     "output_type": "display_data"
    },
    {
     "data": {
      "application/vnd.jupyter.widget-view+json": {
       "model_id": "48f96bdcfa9846e8a2f9b687dcb6a0d9",
       "version_major": 2,
       "version_minor": 0
      },
      "text/plain": [
       "Downloading (…)l-00001-of-00011.bin:   0%|          | 0.00/4.88G [00:00<?, ?B/s]"
      ]
     },
     "metadata": {},
     "output_type": "display_data"
    },
    {
     "data": {
      "application/vnd.jupyter.widget-view+json": {
       "model_id": "f4bc2d89f2ef469b8987306e03968586",
       "version_major": 2,
       "version_minor": 0
      },
      "text/plain": [
       "Downloading (…)l-00002-of-00011.bin:   0%|          | 0.00/4.97G [00:00<?, ?B/s]"
      ]
     },
     "metadata": {},
     "output_type": "display_data"
    },
    {
     "data": {
      "application/vnd.jupyter.widget-view+json": {
       "model_id": "ae6d7dc79b6a4a06bd7d8d3db8ef1a6b",
       "version_major": 2,
       "version_minor": 0
      },
      "text/plain": [
       "Downloading (…)l-00003-of-00011.bin:   0%|          | 0.00/4.97G [00:00<?, ?B/s]"
      ]
     },
     "metadata": {},
     "output_type": "display_data"
    },
    {
     "data": {
      "application/vnd.jupyter.widget-view+json": {
       "model_id": "f6c02d7f209742ee8560e2ae15a39965",
       "version_major": 2,
       "version_minor": 0
      },
      "text/plain": [
       "Downloading (…)l-00004-of-00011.bin:   0%|          | 0.00/4.97G [00:00<?, ?B/s]"
      ]
     },
     "metadata": {},
     "output_type": "display_data"
    },
    {
     "data": {
      "application/vnd.jupyter.widget-view+json": {
       "model_id": "d09292eab3b74b33aa71a22a9783a661",
       "version_major": 2,
       "version_minor": 0
      },
      "text/plain": [
       "Downloading (…)l-00005-of-00011.bin:   0%|          | 0.00/4.97G [00:00<?, ?B/s]"
      ]
     },
     "metadata": {},
     "output_type": "display_data"
    },
    {
     "data": {
      "application/vnd.jupyter.widget-view+json": {
       "model_id": "f8a06475b993460f9f42385728d128fc",
       "version_major": 2,
       "version_minor": 0
      },
      "text/plain": [
       "Downloading (…)l-00006-of-00011.bin:   0%|          | 0.00/4.79G [00:00<?, ?B/s]"
      ]
     },
     "metadata": {},
     "output_type": "display_data"
    },
    {
     "data": {
      "application/vnd.jupyter.widget-view+json": {
       "model_id": "e3c5c07806234b73baeb4fb6458ac5a0",
       "version_major": 2,
       "version_minor": 0
      },
      "text/plain": [
       "Downloading (…)l-00007-of-00011.bin:   0%|          | 0.00/4.79G [00:00<?, ?B/s]"
      ]
     },
     "metadata": {},
     "output_type": "display_data"
    },
    {
     "data": {
      "application/vnd.jupyter.widget-view+json": {
       "model_id": "df68136dc2444ff6bdb1f70b1d490854",
       "version_major": 2,
       "version_minor": 0
      },
      "text/plain": [
       "Downloading (…)l-00008-of-00011.bin:   0%|          | 0.00/4.79G [00:00<?, ?B/s]"
      ]
     },
     "metadata": {},
     "output_type": "display_data"
    },
    {
     "data": {
      "application/vnd.jupyter.widget-view+json": {
       "model_id": "c3d71b1b3523410b85ae79482f68ba92",
       "version_major": 2,
       "version_minor": 0
      },
      "text/plain": [
       "Downloading (…)l-00009-of-00011.bin:   0%|          | 0.00/4.97G [00:00<?, ?B/s]"
      ]
     },
     "metadata": {},
     "output_type": "display_data"
    },
    {
     "data": {
      "application/vnd.jupyter.widget-view+json": {
       "model_id": "ea05d84faec64e83a665a86ce61f0f43",
       "version_major": 2,
       "version_minor": 0
      },
      "text/plain": [
       "Downloading (…)l-00010-of-00011.bin:   0%|          | 0.00/4.97G [00:00<?, ?B/s]"
      ]
     },
     "metadata": {},
     "output_type": "display_data"
    },
    {
     "data": {
      "application/vnd.jupyter.widget-view+json": {
       "model_id": "b515d2809a9940f79c8368547d3c6cfd",
       "version_major": 2,
       "version_minor": 0
      },
      "text/plain": [
       "Downloading (…)l-00011-of-00011.bin:   0%|          | 0.00/2.98G [00:00<?, ?B/s]"
      ]
     },
     "metadata": {},
     "output_type": "display_data"
    },
    {
     "data": {
      "application/vnd.jupyter.widget-view+json": {
       "model_id": "a7c214a7cbd044908b84d806d802bf5a",
       "version_major": 2,
       "version_minor": 0
      },
      "text/plain": [
       "Loading checkpoint shards:   0%|          | 0/11 [00:00<?, ?it/s]"
      ]
     },
     "metadata": {},
     "output_type": "display_data"
    },
    {
     "data": {
      "application/vnd.jupyter.widget-view+json": {
       "model_id": "213a1386c56044f3af9d39ee34728b5f",
       "version_major": 2,
       "version_minor": 0
      },
      "text/plain": [
       "Downloading (…)neration_config.json:   0%|          | 0.00/132 [00:00<?, ?B/s]"
      ]
     },
     "metadata": {},
     "output_type": "display_data"
    },
    {
     "name": "stdout",
     "output_type": "stream",
     "text": [
      "Now Analysing....\n",
      "saving Results....\n",
      "Executed the code in: 3459.8963543220016 seconds\n"
     ]
    }
   ],
   "source": [
    "try:\n",
    "    del model\n",
    "    del watcher\n",
    "    del results\n",
    "except NameError:\n",
    "    pass\n",
    "\n",
    "t0 = time.perf_counter()\n",
    "\n",
    "model=\"psmathur/orca_mini_13b\"\n",
    "file_name = '24_orca_mini_13B.csv'\n",
    "\n",
    "#loading\n",
    "model = AutoModelForCausalLM.from_pretrained(model)\n",
    "\n",
    "#analysing\n",
    "print('Now Analysing....')\n",
    "watcher = ww.WeightWatcher(model=model)\n",
    "results= watcher.analyze()\n",
    "t1 = time.perf_counter()\n",
    "\n",
    "print('saving Results....')\n",
    "\n",
    "#Saving\n",
    "results.to_csv(file_name)\n",
    "\n",
    "#Logging Execution time\n",
    "execution_time = t1 - t0\n",
    "print(f\"Executed the code in: {execution_time} seconds\")"
   ]
  },
  {
   "cell_type": "markdown",
   "id": "11223322-21bc-4639-b89a-a01192485302",
   "metadata": {},
   "source": [
    "## 25_CerebrasGPT_2_7B"
   ]
  },
  {
   "cell_type": "code",
   "execution_count": 9,
   "id": "c048355c-5082-4aa0-9763-36ddcf125e87",
   "metadata": {},
   "outputs": [
    {
     "data": {
      "application/vnd.jupyter.widget-view+json": {
       "model_id": "6669795d989a4fcf90e3220b767af61e",
       "version_major": 2,
       "version_minor": 0
      },
      "text/plain": [
       "Downloading (…)lve/main/config.json:   0%|          | 0.00/361 [00:00<?, ?B/s]"
      ]
     },
     "metadata": {},
     "output_type": "display_data"
    },
    {
     "data": {
      "application/vnd.jupyter.widget-view+json": {
       "model_id": "aac32345505a4fa0a297765dff17a585",
       "version_major": 2,
       "version_minor": 0
      },
      "text/plain": [
       "Downloading pytorch_model.bin:   0%|          | 0.00/10.7G [00:00<?, ?B/s]"
      ]
     },
     "metadata": {},
     "output_type": "display_data"
    },
    {
     "name": "stdout",
     "output_type": "stream",
     "text": [
      "Now Analysing....\n",
      "saving Results....\n",
      "Executed the code in: 429.2240896889998 seconds\n"
     ]
    }
   ],
   "source": [
    "try:\n",
    "    del model\n",
    "    del watcher\n",
    "    del results\n",
    "except NameError:\n",
    "    pass\n",
    "\n",
    "t0 = time.perf_counter()\n",
    "\n",
    "model=\"cerebras/Cerebras-GPT-2.7B\"\n",
    "file_name = '25_CerebrasGPT_2_7B.csv'\n",
    "\n",
    "#loading\n",
    "model = AutoModelForCausalLM.from_pretrained(model)\n",
    "\n",
    "#analysing\n",
    "print('Now Analysing....')\n",
    "watcher = ww.WeightWatcher(model=model)\n",
    "results= watcher.analyze()\n",
    "t1 = time.perf_counter()\n",
    "\n",
    "print('saving Results....')\n",
    "\n",
    "#Saving\n",
    "results.to_csv(file_name)\n",
    "\n",
    "#Logging Execution time\n",
    "execution_time = t1 - t0\n",
    "print(f\"Executed the code in: {execution_time} seconds\")"
   ]
  },
  {
   "cell_type": "markdown",
   "id": "afd5bafb-2844-4c35-b198-eed3bebd5fbc",
   "metadata": {},
   "source": [
    "## 26_Quokka_1_3B"
   ]
  },
  {
   "cell_type": "code",
   "execution_count": 10,
   "id": "5d2e47f7-afdc-493a-a1be-945cbef59163",
   "metadata": {},
   "outputs": [
    {
     "data": {
      "application/vnd.jupyter.widget-view+json": {
       "model_id": "cb1ec6d050bb46668107bf52f4842cd4",
       "version_major": 2,
       "version_minor": 0
      },
      "text/plain": [
       "Downloading (…)lve/main/config.json:   0%|          | 0.00/799 [00:00<?, ?B/s]"
      ]
     },
     "metadata": {},
     "output_type": "display_data"
    },
    {
     "data": {
      "application/vnd.jupyter.widget-view+json": {
       "model_id": "bd106a47480e4eddbdba1e549988df27",
       "version_major": 2,
       "version_minor": 0
      },
      "text/plain": [
       "Downloading model.safetensors:   0%|          | 0.00/2.73G [00:00<?, ?B/s]"
      ]
     },
     "metadata": {},
     "output_type": "display_data"
    },
    {
     "name": "stdout",
     "output_type": "stream",
     "text": [
      "Now Analysing....\n",
      "saving Results....\n",
      "Executed the code in: 152.04203821800184 seconds\n"
     ]
    }
   ],
   "source": [
    "try:\n",
    "    del model\n",
    "    del watcher\n",
    "    del results\n",
    "except NameError:\n",
    "    pass\n",
    "\n",
    "t0 = time.perf_counter()\n",
    "\n",
    "model=\"Corianas/Quokka_1.3b\"\n",
    "file_name = '26_Quokka_1_3B.csv'\n",
    "\n",
    "#loading\n",
    "model = AutoModelForCausalLM.from_pretrained(model)\n",
    "\n",
    "#analysing\n",
    "print('Now Analysing....')\n",
    "watcher = ww.WeightWatcher(model=model)\n",
    "results= watcher.analyze()\n",
    "t1 = time.perf_counter()\n",
    "\n",
    "print('saving Results....')\n",
    "\n",
    "#Saving\n",
    "results.to_csv(file_name)\n",
    "\n",
    "#Logging Execution time\n",
    "execution_time = t1 - t0\n",
    "print(f\"Executed the code in: {execution_time} seconds\")"
   ]
  },
  {
   "cell_type": "markdown",
   "id": "36534a97-c188-48db-b59e-797aefa95b91",
   "metadata": {},
   "source": [
    "## 27_gpt-neo-1.3B "
   ]
  },
  {
   "cell_type": "code",
   "execution_count": null,
   "id": "252bf307-4bfc-4742-9da1-b26c09ceb97e",
   "metadata": {},
   "outputs": [
    {
     "data": {
      "application/vnd.jupyter.widget-view+json": {
       "model_id": "1d04cd5dbc6d410882eb3b708fccd37e",
       "version_major": 2,
       "version_minor": 0
      },
      "text/plain": [
       "Downloading (…)lve/main/config.json:   0%|          | 0.00/1.35k [00:00<?, ?B/s]"
      ]
     },
     "metadata": {},
     "output_type": "display_data"
    },
    {
     "data": {
      "application/vnd.jupyter.widget-view+json": {
       "model_id": "0189e0d7e53d466784e06b8a9e183a94",
       "version_major": 2,
       "version_minor": 0
      },
      "text/plain": [
       "Downloading model.safetensors:   0%|          | 0.00/5.31G [00:00<?, ?B/s]"
      ]
     },
     "metadata": {},
     "output_type": "display_data"
    },
    {
     "name": "stdout",
     "output_type": "stream",
     "text": [
      "Now Analysing....\n"
     ]
    }
   ],
   "source": [
    "try:\n",
    "    del model\n",
    "    del watcher\n",
    "    del results\n",
    "except NameError:\n",
    "    pass\n",
    "\n",
    "t0 = time.perf_counter()\n",
    "\n",
    "model=\"EleutherAI/gpt-neo-1.3B\"\n",
    "file_name = '27_gpt-neo-1.3B .csv'\n",
    "\n",
    "#loading\n",
    "model = AutoModelForCausalLM.from_pretrained(model)\n",
    "\n",
    "#analysing\n",
    "print('Now Analysing....')\n",
    "watcher = ww.WeightWatcher(model=model)\n",
    "results= watcher.analyze()\n",
    "t1 = time.perf_counter()\n",
    "\n",
    "print('saving Results....')\n",
    "\n",
    "#Saving\n",
    "results.to_csv(file_name)\n",
    "\n",
    "#Logging Execution time\n",
    "execution_time = t1 - t0\n",
    "print(f\"Executed the code in: {execution_time} seconds\")"
   ]
  },
  {
   "cell_type": "markdown",
   "id": "8799912e-6918-42b2-84ff-a3d0107640a4",
   "metadata": {},
   "source": [
    "## 28_Pythia_70M"
   ]
  },
  {
   "cell_type": "code",
   "execution_count": 12,
   "id": "9be52b47-8e24-4e02-87ef-5f03ee203388",
   "metadata": {},
   "outputs": [
    {
     "data": {
      "application/vnd.jupyter.widget-view+json": {
       "model_id": "164a87575ad744709cd3a7c98fc6b996",
       "version_major": 2,
       "version_minor": 0
      },
      "text/plain": [
       "Downloading (…)lve/main/config.json:   0%|          | 0.00/567 [00:00<?, ?B/s]"
      ]
     },
     "metadata": {},
     "output_type": "display_data"
    },
    {
     "data": {
      "application/vnd.jupyter.widget-view+json": {
       "model_id": "039ab0ba32fa4d238b2b722e45801091",
       "version_major": 2,
       "version_minor": 0
      },
      "text/plain": [
       "Downloading model.safetensors:   0%|          | 0.00/166M [00:00<?, ?B/s]"
      ]
     },
     "metadata": {},
     "output_type": "display_data"
    },
    {
     "name": "stdout",
     "output_type": "stream",
     "text": [
      "Now Analysing....\n",
      "saving Results....\n",
      "Executed the code in: 3.439764732000185 seconds\n"
     ]
    }
   ],
   "source": [
    "try:\n",
    "    del model\n",
    "    del watcher\n",
    "    del results\n",
    "except NameError:\n",
    "    pass\n",
    "\n",
    "t0 = time.perf_counter()\n",
    "\n",
    "model=\"EleutherAI/pythia-70m\"\n",
    "file_name = '28_Pythia_70M.csv'\n",
    "\n",
    "#loading\n",
    "model = AutoModelForCausalLM.from_pretrained(model)\n",
    "\n",
    "#analysing\n",
    "print('Now Analysing....')\n",
    "watcher = ww.WeightWatcher(model=model)\n",
    "results= watcher.analyze()\n",
    "t1 = time.perf_counter()\n",
    "\n",
    "print('saving Results....')\n",
    "\n",
    "#Saving\n",
    "results.to_csv(file_name)\n",
    "\n",
    "#Logging Execution time\n",
    "execution_time = t1 - t0\n",
    "print(f\"Executed the code in: {execution_time} seconds\")"
   ]
  },
  {
   "cell_type": "markdown",
   "id": "36fa6725-0e3d-430f-9ed3-28092b70e964",
   "metadata": {},
   "source": [
    "## 29_Dialogue_Gpt"
   ]
  },
  {
   "cell_type": "code",
   "execution_count": 13,
   "id": "c5d4fbd8-575f-4659-9308-4a56f693d39f",
   "metadata": {},
   "outputs": [
    {
     "data": {
      "application/vnd.jupyter.widget-view+json": {
       "model_id": "32d23d91ab1648d6b4267511134d212f",
       "version_major": 2,
       "version_minor": 0
      },
      "text/plain": [
       "Downloading (…)lve/main/config.json:   0%|          | 0.00/642 [00:00<?, ?B/s]"
      ]
     },
     "metadata": {},
     "output_type": "display_data"
    },
    {
     "data": {
      "application/vnd.jupyter.widget-view+json": {
       "model_id": "5b709aad0b5443998d92b5f721f55784",
       "version_major": 2,
       "version_minor": 0
      },
      "text/plain": [
       "Downloading pytorch_model.bin:   0%|          | 0.00/1.75G [00:00<?, ?B/s]"
      ]
     },
     "metadata": {},
     "output_type": "display_data"
    },
    {
     "data": {
      "application/vnd.jupyter.widget-view+json": {
       "model_id": "ebce8c2ed90541669584f38dd5012c35",
       "version_major": 2,
       "version_minor": 0
      },
      "text/plain": [
       "Downloading (…)neration_config.json:   0%|          | 0.00/124 [00:00<?, ?B/s]"
      ]
     },
     "metadata": {},
     "output_type": "display_data"
    },
    {
     "name": "stdout",
     "output_type": "stream",
     "text": [
      "Now Analysing....\n",
      "saving Results....\n",
      "Executed the code in: 91.24381364199508 seconds\n"
     ]
    }
   ],
   "source": [
    "try:\n",
    "    del model\n",
    "    del watcher\n",
    "    del results\n",
    "except NameError:\n",
    "    pass\n",
    "\n",
    "t0 = time.perf_counter()\n",
    "\n",
    "model=\"microsoft/DialoGPT-large\"\n",
    "file_name = '29_Dialogue_Gpt_760M.csv'\n",
    "\n",
    "#loading\n",
    "model = AutoModelForCausalLM.from_pretrained(model)\n",
    "\n",
    "#analysing\n",
    "print('Now Analysing....')\n",
    "watcher = ww.WeightWatcher(model=model)\n",
    "results= watcher.analyze()\n",
    "t1 = time.perf_counter()\n",
    "\n",
    "print('saving Results....')\n",
    "\n",
    "#Saving\n",
    "results.to_csv(file_name)\n",
    "\n",
    "#Logging Execution time\n",
    "execution_time = t1 - t0\n",
    "print(f\"Executed the code in: {execution_time} seconds\")"
   ]
  },
  {
   "cell_type": "markdown",
   "id": "654bd50a-307b-435e-a66e-5a39cee4b9cc",
   "metadata": {},
   "source": [
    "## 30_GPTJ_6B"
   ]
  },
  {
   "cell_type": "code",
   "execution_count": 14,
   "id": "f6e1d28c-9b61-4661-b559-9a800b5261ee",
   "metadata": {},
   "outputs": [
    {
     "data": {
      "application/vnd.jupyter.widget-view+json": {
       "model_id": "dc46d270d6ca4afd88d32206e19d0bca",
       "version_major": 2,
       "version_minor": 0
      },
      "text/plain": [
       "Downloading (…)lve/main/config.json:   0%|          | 0.00/930 [00:00<?, ?B/s]"
      ]
     },
     "metadata": {},
     "output_type": "display_data"
    },
    {
     "data": {
      "application/vnd.jupyter.widget-view+json": {
       "model_id": "f10536ebb2174f88921c33334b504b31",
       "version_major": 2,
       "version_minor": 0
      },
      "text/plain": [
       "Downloading pytorch_model.bin:   0%|          | 0.00/24.2G [00:00<?, ?B/s]"
      ]
     },
     "metadata": {},
     "output_type": "display_data"
    },
    {
     "name": "stdout",
     "output_type": "stream",
     "text": [
      "Now Analysing....\n",
      "saving Results....\n",
      "Executed the code in: 840.88384304801 seconds\n"
     ]
    }
   ],
   "source": [
    "try:\n",
    "    del model\n",
    "    del watcher\n",
    "    del results\n",
    "except NameError:\n",
    "    pass\n",
    "\n",
    "t0 = time.perf_counter()\n",
    "\n",
    "model=\"EleutherAI/gpt-j-6b\"\n",
    "file_name = '30_GPTJ_6B.csv'\n",
    "\n",
    "#loading\n",
    "model = AutoModelForCausalLM.from_pretrained(model)\n",
    "\n",
    "#analysing\n",
    "print('Now Analysing....')\n",
    "watcher = ww.WeightWatcher(model=model)\n",
    "results= watcher.analyze()\n",
    "t1 = time.perf_counter()\n",
    "\n",
    "print('saving Results....')\n",
    "\n",
    "#Saving\n",
    "results.to_csv(file_name)\n",
    "\n",
    "#Logging Execution time\n",
    "execution_time = t1 - t0\n",
    "print(f\"Executed the code in: {execution_time} seconds\")"
   ]
  },
  {
   "cell_type": "markdown",
   "id": "fcb002d0-f4d6-47f0-a590-e32326ed2406",
   "metadata": {},
   "source": [
    "## 31_bloom_7B"
   ]
  },
  {
   "cell_type": "code",
   "execution_count": 17,
   "id": "aff36662-d9ee-4afc-83ee-ebe148e3be01",
   "metadata": {
    "collapsed": true,
    "jupyter": {
     "outputs_hidden": true
    }
   },
   "outputs": [
    {
     "data": {
      "application/vnd.jupyter.widget-view+json": {
       "model_id": "14377d190e024353a6d408f0e81bf28d",
       "version_major": 2,
       "version_minor": 0
      },
      "text/plain": [
       "Downloading (…)lve/main/config.json:   0%|          | 0.00/739 [00:00<?, ?B/s]"
      ]
     },
     "metadata": {},
     "output_type": "display_data"
    },
    {
     "data": {
      "application/vnd.jupyter.widget-view+json": {
       "model_id": "0a86546a7a9e49c58e3d1fb357052321",
       "version_major": 2,
       "version_minor": 0
      },
      "text/plain": [
       "Downloading (…)model.bin.index.json:   0%|          | 0.00/27.5k [00:00<?, ?B/s]"
      ]
     },
     "metadata": {},
     "output_type": "display_data"
    },
    {
     "data": {
      "application/vnd.jupyter.widget-view+json": {
       "model_id": "7db38a321620419cb5b286bdf81e8643",
       "version_major": 2,
       "version_minor": 0
      },
      "text/plain": [
       "Downloading shards:   0%|          | 0/2 [00:00<?, ?it/s]"
      ]
     },
     "metadata": {},
     "output_type": "display_data"
    },
    {
     "data": {
      "application/vnd.jupyter.widget-view+json": {
       "model_id": "37bd372955a54e84b211ec0b6d70f52d",
       "version_major": 2,
       "version_minor": 0
      },
      "text/plain": [
       "Downloading (…)l-00001-of-00002.bin:   0%|          | 0.00/9.98G [00:00<?, ?B/s]"
      ]
     },
     "metadata": {},
     "output_type": "display_data"
    },
    {
     "data": {
      "application/vnd.jupyter.widget-view+json": {
       "model_id": "af2f4e2d75ed4b708a822d161d9d013b",
       "version_major": 2,
       "version_minor": 0
      },
      "text/plain": [
       "Downloading (…)l-00002-of-00002.bin:   0%|          | 0.00/4.16G [00:00<?, ?B/s]"
      ]
     },
     "metadata": {},
     "output_type": "display_data"
    },
    {
     "data": {
      "application/vnd.jupyter.widget-view+json": {
       "model_id": "2ba83f99fe62480a969e77b2080c0f9e",
       "version_major": 2,
       "version_minor": 0
      },
      "text/plain": [
       "Loading checkpoint shards:   0%|          | 0/2 [00:00<?, ?it/s]"
      ]
     },
     "metadata": {},
     "output_type": "display_data"
    },
    {
     "name": "stdout",
     "output_type": "stream",
     "text": [
      "Now Analysing....\n",
      "saving Results....\n",
      "Executed the code in: 733.0924896469951 seconds\n"
     ]
    }
   ],
   "source": [
    "try:\n",
    "    del model\n",
    "    del watcher\n",
    "    del results\n",
    "except NameError:\n",
    "    pass\n",
    "\n",
    "t0 = time.perf_counter()\n",
    "\n",
    "model=\"bigscience/bloom-7b1\"\n",
    "file_name = '31_bloom_7B.csv'\n",
    "\n",
    "#loading\n",
    "model = AutoModelForCausalLM.from_pretrained(model)\n",
    "\n",
    "#analysing\n",
    "print('Now Analysing....')\n",
    "watcher = ww.WeightWatcher(model=model)\n",
    "results= watcher.analyze()\n",
    "t1 = time.perf_counter()\n",
    "\n",
    "print('saving Results....')\n",
    "\n",
    "#Saving\n",
    "results.to_csv(file_name)\n",
    "\n",
    "#Logging Execution time\n",
    "execution_time = t1 - t0\n",
    "print(f\"Executed the code in: {execution_time} seconds\")"
   ]
  },
  {
   "cell_type": "markdown",
   "id": "7896ef89-65b4-4146-93ad-f51d828d3c5f",
   "metadata": {},
   "source": [
    "## 32_opt_6.7b"
   ]
  },
  {
   "cell_type": "code",
   "execution_count": 18,
   "id": "1ef88569-ae5c-4303-b1f7-fd27b6693b6c",
   "metadata": {},
   "outputs": [
    {
     "data": {
      "application/vnd.jupyter.widget-view+json": {
       "model_id": "549d6d90eb7f40e586a5f7d4dd175346",
       "version_major": 2,
       "version_minor": 0
      },
      "text/plain": [
       "Downloading (…)lve/main/config.json:   0%|          | 0.00/651 [00:00<?, ?B/s]"
      ]
     },
     "metadata": {},
     "output_type": "display_data"
    },
    {
     "data": {
      "application/vnd.jupyter.widget-view+json": {
       "model_id": "42fbf98dca7a4c45975a664dcfff88fc",
       "version_major": 2,
       "version_minor": 0
      },
      "text/plain": [
       "Downloading (…)model.bin.index.json:   0%|          | 0.00/41.9k [00:00<?, ?B/s]"
      ]
     },
     "metadata": {},
     "output_type": "display_data"
    },
    {
     "data": {
      "application/vnd.jupyter.widget-view+json": {
       "model_id": "372d1ebff1f74538aefa8f14e938eef6",
       "version_major": 2,
       "version_minor": 0
      },
      "text/plain": [
       "Downloading shards:   0%|          | 0/2 [00:00<?, ?it/s]"
      ]
     },
     "metadata": {},
     "output_type": "display_data"
    },
    {
     "data": {
      "application/vnd.jupyter.widget-view+json": {
       "model_id": "118319509a2b47888cf373ad8a489d87",
       "version_major": 2,
       "version_minor": 0
      },
      "text/plain": [
       "Downloading (…)l-00001-of-00002.bin:   0%|          | 0.00/9.96G [00:00<?, ?B/s]"
      ]
     },
     "metadata": {},
     "output_type": "display_data"
    },
    {
     "data": {
      "application/vnd.jupyter.widget-view+json": {
       "model_id": "e8c0584d81954c04a4e144b8858592fe",
       "version_major": 2,
       "version_minor": 0
      },
      "text/plain": [
       "Downloading (…)l-00002-of-00002.bin:   0%|          | 0.00/3.36G [00:00<?, ?B/s]"
      ]
     },
     "metadata": {},
     "output_type": "display_data"
    },
    {
     "data": {
      "application/vnd.jupyter.widget-view+json": {
       "model_id": "8cccfcbe22064de4a176ff28beb3c204",
       "version_major": 2,
       "version_minor": 0
      },
      "text/plain": [
       "Loading checkpoint shards:   0%|          | 0/2 [00:00<?, ?it/s]"
      ]
     },
     "metadata": {},
     "output_type": "display_data"
    },
    {
     "data": {
      "application/vnd.jupyter.widget-view+json": {
       "model_id": "9b7a7fcfffac4dd49f83d33c636fba17",
       "version_major": 2,
       "version_minor": 0
      },
      "text/plain": [
       "Downloading (…)neration_config.json:   0%|          | 0.00/137 [00:00<?, ?B/s]"
      ]
     },
     "metadata": {},
     "output_type": "display_data"
    },
    {
     "name": "stdout",
     "output_type": "stream",
     "text": [
      "Now Analysing....\n",
      "saving Results....\n",
      "Executed the code in: 967.1480623639945 seconds\n"
     ]
    }
   ],
   "source": [
    "try:\n",
    "    del model\n",
    "    del watcher\n",
    "    del results\n",
    "except NameError:\n",
    "    pass\n",
    "\n",
    "t0 = time.perf_counter()\n",
    "\n",
    "model=\"facebook/opt-6.7b\"\n",
    "file_name = '32_opt_6.7b.csv'\n",
    "\n",
    "#loading\n",
    "model = AutoModelForCausalLM.from_pretrained(model)\n",
    "\n",
    "#analysing\n",
    "print('Now Analysing....')\n",
    "watcher = ww.WeightWatcher(model=model)\n",
    "results= watcher.analyze()\n",
    "t1 = time.perf_counter()\n",
    "\n",
    "print('saving Results....')\n",
    "\n",
    "#Saving\n",
    "results.to_csv(file_name)\n",
    "\n",
    "#Logging Execution time\n",
    "execution_time = t1 - t0\n",
    "print(f\"Executed the code in: {execution_time} seconds\")"
   ]
  },
  {
   "cell_type": "markdown",
   "id": "6c4cabc6-70f2-48e8-9122-a17755b20e07",
   "metadata": {},
   "source": [
    "## 33_XLM_4.5B"
   ]
  },
  {
   "cell_type": "code",
   "execution_count": null,
   "id": "9a735da4-c640-43a2-b514-63f26cc54eb9",
   "metadata": {},
   "outputs": [
    {
     "data": {
      "application/vnd.jupyter.widget-view+json": {
       "model_id": "617c20c67b4940e6b553e1dcef1578c3",
       "version_major": 2,
       "version_minor": 0
      },
      "text/plain": [
       "Downloading (…)lve/main/config.json:   0%|          | 0.00/577 [00:00<?, ?B/s]"
      ]
     },
     "metadata": {},
     "output_type": "display_data"
    },
    {
     "data": {
      "application/vnd.jupyter.widget-view+json": {
       "model_id": "8552553a168a48ef90c77c27c72c19d0",
       "version_major": 2,
       "version_minor": 0
      },
      "text/plain": [
       "Downloading pytorch_model.bin:   0%|          | 0.00/10.2G [00:00<?, ?B/s]"
      ]
     },
     "metadata": {},
     "output_type": "display_data"
    },
    {
     "name": "stderr",
     "output_type": "stream",
     "text": [
      "Some weights of XGLMForCausalLM were not initialized from the model checkpoint at facebook/xglm-4.5B and are newly initialized: ['model.embed_positions.weights']\n",
      "You should probably TRAIN this model on a down-stream task to be able to use it for predictions and inference.\n"
     ]
    },
    {
     "data": {
      "application/vnd.jupyter.widget-view+json": {
       "model_id": "375db4c60fc145889845ee1d73434064",
       "version_major": 2,
       "version_minor": 0
      },
      "text/plain": [
       "Downloading (…)neration_config.json:   0%|          | 0.00/168 [00:00<?, ?B/s]"
      ]
     },
     "metadata": {},
     "output_type": "display_data"
    },
    {
     "name": "stdout",
     "output_type": "stream",
     "text": [
      "Now Analysing....\n",
      "saving Results....\n",
      "Executed the code in: 458.29545741500624 seconds\n"
     ]
    }
   ],
   "source": [
    "try:\n",
    "    del model\n",
    "    del watcher\n",
    "    del results\n",
    "except NameError:\n",
    "    pass\n",
    "\n",
    "t0 = time.perf_counter()\n",
    "\n",
    "model=\"facebook/xglm-4.5B\"\n",
    "file_name = '33_XLM_4.5B.csv'\n",
    "\n",
    "#loading\n",
    "model = AutoModelForCausalLM.from_pretrained(model)\n",
    "\n",
    "#analysing\n",
    "print('Now Analysing....')\n",
    "watcher = ww.WeightWatcher(model=model)\n",
    "results= watcher.analyze()\n",
    "t1 = time.perf_counter()\n",
    "\n",
    "print('saving Results....')\n",
    "\n",
    "#Saving\n",
    "results.to_csv(file_name)\n",
    "\n",
    "#Logging Execution time\n",
    "execution_time = t1 - t0\n",
    "print(f\"Executed the code in: {execution_time} seconds\")"
   ]
  },
  {
   "cell_type": "markdown",
   "id": "50ea8415-a8b7-40d2-b693-c9f43991548e",
   "metadata": {},
   "source": [
    "## 34_OpenAssistant_Llama_30B"
   ]
  },
  {
   "cell_type": "code",
   "execution_count": null,
   "id": "114f4602-3523-4479-b21e-c059ea38e810",
   "metadata": {},
   "outputs": [
    {
     "data": {
      "application/vnd.jupyter.widget-view+json": {
       "model_id": "030d184b8b4a47ba84a5476dae804c9a",
       "version_major": 2,
       "version_minor": 0
      },
      "text/plain": [
       "Downloading (…)lve/main/config.json:   0%|          | 0.00/568 [00:00<?, ?B/s]"
      ]
     },
     "metadata": {},
     "output_type": "display_data"
    },
    {
     "data": {
      "application/vnd.jupyter.widget-view+json": {
       "model_id": "ab08ca20777c47d3bb8660aa34692601",
       "version_major": 2,
       "version_minor": 0
      },
      "text/plain": [
       "Downloading (…)model.bin.index.json:   0%|          | 0.00/50.1k [00:00<?, ?B/s]"
      ]
     },
     "metadata": {},
     "output_type": "display_data"
    },
    {
     "data": {
      "application/vnd.jupyter.widget-view+json": {
       "model_id": "d426f0454fd34b7e9c3c00b25fb96d19",
       "version_major": 2,
       "version_minor": 0
      },
      "text/plain": [
       "Downloading shards:   0%|          | 0/7 [00:00<?, ?it/s]"
      ]
     },
     "metadata": {},
     "output_type": "display_data"
    },
    {
     "data": {
      "application/vnd.jupyter.widget-view+json": {
       "model_id": "acaf29e2f8164152bd45b7fb7fb0dd12",
       "version_major": 2,
       "version_minor": 0
      },
      "text/plain": [
       "Downloading (…)l-00001-of-00007.bin:   0%|          | 0.00/9.82G [00:00<?, ?B/s]"
      ]
     },
     "metadata": {},
     "output_type": "display_data"
    },
    {
     "data": {
      "application/vnd.jupyter.widget-view+json": {
       "model_id": "48dfdd329ada45549e2e8ea202991fbf",
       "version_major": 2,
       "version_minor": 0
      },
      "text/plain": [
       "Downloading (…)l-00002-of-00007.bin:   0%|          | 0.00/9.96G [00:00<?, ?B/s]"
      ]
     },
     "metadata": {},
     "output_type": "display_data"
    },
    {
     "data": {
      "application/vnd.jupyter.widget-view+json": {
       "model_id": "2fe9e83dfeab428e9ce8e5297a5127ee",
       "version_major": 2,
       "version_minor": 0
      },
      "text/plain": [
       "Downloading (…)l-00003-of-00007.bin:   0%|          | 0.00/9.90G [00:00<?, ?B/s]"
      ]
     },
     "metadata": {},
     "output_type": "display_data"
    },
    {
     "data": {
      "application/vnd.jupyter.widget-view+json": {
       "model_id": "0b440045ac034e5c853d25ab82f5d255",
       "version_major": 2,
       "version_minor": 0
      },
      "text/plain": [
       "Downloading (…)l-00004-of-00007.bin:   0%|          | 0.00/9.87G [00:00<?, ?B/s]"
      ]
     },
     "metadata": {},
     "output_type": "display_data"
    },
    {
     "data": {
      "application/vnd.jupyter.widget-view+json": {
       "model_id": "cf8444a248904cd0b5e0c4e9e13fefab",
       "version_major": 2,
       "version_minor": 0
      },
      "text/plain": [
       "Downloading (…)l-00005-of-00007.bin:   0%|          | 0.00/9.87G [00:00<?, ?B/s]"
      ]
     },
     "metadata": {},
     "output_type": "display_data"
    },
    {
     "data": {
      "application/vnd.jupyter.widget-view+json": {
       "model_id": "4a40ed71c6fd4c73b967586172ad467c",
       "version_major": 2,
       "version_minor": 0
      },
      "text/plain": [
       "Downloading (…)l-00006-of-00007.bin:   0%|          | 0.00/9.96G [00:00<?, ?B/s]"
      ]
     },
     "metadata": {},
     "output_type": "display_data"
    },
    {
     "data": {
      "application/vnd.jupyter.widget-view+json": {
       "model_id": "187e2bf257224e69b25747d1776f88df",
       "version_major": 2,
       "version_minor": 0
      },
      "text/plain": [
       "Downloading (…)l-00007-of-00007.bin:   0%|          | 0.00/5.69G [00:00<?, ?B/s]"
      ]
     },
     "metadata": {},
     "output_type": "display_data"
    },
    {
     "data": {
      "application/vnd.jupyter.widget-view+json": {
       "model_id": "cb18ff990c874a9e9721c92bb0295ff8",
       "version_major": 2,
       "version_minor": 0
      },
      "text/plain": [
       "Loading checkpoint shards:   0%|          | 0/7 [00:00<?, ?it/s]"
      ]
     },
     "metadata": {},
     "output_type": "display_data"
    },
    {
     "data": {
      "application/vnd.jupyter.widget-view+json": {
       "model_id": "dbbee89353414095b516a2ba423a1e97",
       "version_major": 2,
       "version_minor": 0
      },
      "text/plain": [
       "Downloading (…)neration_config.json:   0%|          | 0.00/137 [00:00<?, ?B/s]"
      ]
     },
     "metadata": {},
     "output_type": "display_data"
    },
    {
     "name": "stdout",
     "output_type": "stream",
     "text": [
      "Now Analysing....\n"
     ]
    }
   ],
   "source": [
    "try:\n",
    "    del model\n",
    "    del watcher\n",
    "    del results\n",
    "except NameError:\n",
    "    pass\n",
    "\n",
    "t0 = time.perf_counter()\n",
    "\n",
    "model=\"TheBloke/OpenAssistant-SFT-7-Llama-30B-HF\"\n",
    "file_name = '34_OpenAssistant_Llama_30B.csv'\n",
    "\n",
    "#loading\n",
    "model = AutoModelForCausalLM.from_pretrained(model)\n",
    "\n",
    "#analysing\n",
    "print('Now Analysing....')\n",
    "watcher = ww.WeightWatcher(model=model)\n",
    "results= watcher.analyze()\n",
    "t1 = time.perf_counter()\n",
    "\n",
    "print('saving Results....')\n",
    "\n",
    "#Saving\n",
    "results.to_csv(file_name)\n",
    "\n",
    "#Logging Execution time\n",
    "execution_time = t1 - t0\n",
    "print(f\"Executed the code in: {execution_time} seconds\")"
   ]
  },
  {
   "cell_type": "markdown",
   "id": "a2faf136-c029-4c17-9c46-e17fa8cbc244",
   "metadata": {},
   "source": [
    "## 35_Pythia_12B"
   ]
  },
  {
   "cell_type": "code",
   "execution_count": null,
   "id": "b91ee243-e095-4fe7-9a83-1cd0a634cd79",
   "metadata": {},
   "outputs": [],
   "source": [
    "try:\n",
    "    del model\n",
    "    del watcher\n",
    "    del results\n",
    "except NameError:\n",
    "    pass\n",
    "\n",
    "t0 = time.perf_counter()\n",
    "\n",
    "model=\"EleutherAI/pythia-12b\"\n",
    "file_name = '35_Pythia_12B.csv'\n",
    "\n",
    "#loading\n",
    "model = AutoModelForCausalLM.from_pretrained(model)\n",
    "\n",
    "#analysing\n",
    "print('Now Analysing....')\n",
    "watcher = ww.WeightWatcher(model=model)\n",
    "results= watcher.analyze()\n",
    "t1 = time.perf_counter()\n",
    "\n",
    "print('saving Results....')\n",
    "\n",
    "#Saving\n",
    "results.to_csv(file_name)\n",
    "\n",
    "#Logging Execution time\n",
    "execution_time = t1 - t0\n",
    "print(f\"Executed the code in: {execution_time} seconds\")"
   ]
  },
  {
   "cell_type": "code",
   "execution_count": null,
   "id": "ed7156b1-d725-4590-848f-32fa237b47d7",
   "metadata": {},
   "outputs": [],
   "source": []
  }
 ],
 "metadata": {
  "kernelspec": {
   "display_name": "Python 3",
   "language": "python",
   "name": "python3"
  },
  "language_info": {
   "codemirror_mode": {
    "name": "ipython",
    "version": 3
   },
   "file_extension": ".py",
   "mimetype": "text/x-python",
   "name": "python",
   "nbconvert_exporter": "python",
   "pygments_lexer": "ipython3",
   "version": "3.8.10"
  }
 },
 "nbformat": 4,
 "nbformat_minor": 5
}
