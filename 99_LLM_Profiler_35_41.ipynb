{
 "cells": [
  {
   "cell_type": "code",
   "execution_count": 1,
   "id": "54ac2e1d-03c7-4ca3-a0b3-00ecb446570f",
   "metadata": {},
   "outputs": [
    {
     "name": "stdout",
     "output_type": "stream",
     "text": [
      "Defaulting to user installation because normal site-packages is not writeable\n",
      "Requirement already satisfied: transformers in ./.local/lib/python3.8/site-packages (4.31.0)\n",
      "Requirement already satisfied: requests in ./.local/lib/python3.8/site-packages (from transformers) (2.28.2)\n",
      "Requirement already satisfied: filelock in /usr/lib/python3/dist-packages (from transformers) (3.0.12)\n",
      "Requirement already satisfied: regex!=2019.12.17 in ./.local/lib/python3.8/site-packages (from transformers) (2023.8.8)\n",
      "Requirement already satisfied: pyyaml>=5.1 in /usr/lib/python3/dist-packages (from transformers) (5.3.1)\n",
      "Requirement already satisfied: packaging>=20.0 in ./.local/lib/python3.8/site-packages (from transformers) (23.0)\n",
      "Requirement already satisfied: tqdm>=4.27 in ./.local/lib/python3.8/site-packages (from transformers) (4.64.1)\n",
      "Requirement already satisfied: tokenizers!=0.11.3,<0.14,>=0.11.1 in ./.local/lib/python3.8/site-packages (from transformers) (0.13.3)\n",
      "Requirement already satisfied: safetensors>=0.3.1 in ./.local/lib/python3.8/site-packages (from transformers) (0.3.2)\n",
      "Requirement already satisfied: huggingface-hub<1.0,>=0.14.1 in ./.local/lib/python3.8/site-packages (from transformers) (0.16.4)\n",
      "Requirement already satisfied: numpy>=1.17 in ./.local/lib/python3.8/site-packages (from transformers) (1.23.5)\n",
      "Requirement already satisfied: typing-extensions>=3.7.4.3 in ./.local/lib/python3.8/site-packages (from huggingface-hub<1.0,>=0.14.1->transformers) (4.5.0)\n",
      "Requirement already satisfied: fsspec in /usr/lib/python3/dist-packages (from huggingface-hub<1.0,>=0.14.1->transformers) (0.6.1)\n",
      "Requirement already satisfied: certifi>=2017.4.17 in /usr/lib/python3/dist-packages (from requests->transformers) (2019.11.28)\n",
      "Requirement already satisfied: charset-normalizer<4,>=2 in ./.local/lib/python3.8/site-packages (from requests->transformers) (3.1.0)\n",
      "Requirement already satisfied: urllib3<1.27,>=1.21.1 in /usr/lib/python3/dist-packages (from requests->transformers) (1.25.8)\n",
      "Requirement already satisfied: idna<4,>=2.5 in /usr/lib/python3/dist-packages (from requests->transformers) (2.8)\n",
      "\n",
      "\u001b[1m[\u001b[0m\u001b[34;49mnotice\u001b[0m\u001b[1;39;49m]\u001b[0m\u001b[39;49m A new release of pip is available: \u001b[0m\u001b[31;49m23.0.1\u001b[0m\u001b[39;49m -> \u001b[0m\u001b[32;49m23.2.1\u001b[0m\n",
      "\u001b[1m[\u001b[0m\u001b[34;49mnotice\u001b[0m\u001b[1;39;49m]\u001b[0m\u001b[39;49m To update, run: \u001b[0m\u001b[32;49mpython3 -m pip install --upgrade pip\u001b[0m\n",
      "Defaulting to user installation because normal site-packages is not writeable\n",
      "Requirement already satisfied: einops in ./.local/lib/python3.8/site-packages (0.6.1)\n",
      "\n",
      "\u001b[1m[\u001b[0m\u001b[34;49mnotice\u001b[0m\u001b[1;39;49m]\u001b[0m\u001b[39;49m A new release of pip is available: \u001b[0m\u001b[31;49m23.0.1\u001b[0m\u001b[39;49m -> \u001b[0m\u001b[32;49m23.2.1\u001b[0m\n",
      "\u001b[1m[\u001b[0m\u001b[34;49mnotice\u001b[0m\u001b[1;39;49m]\u001b[0m\u001b[39;49m To update, run: \u001b[0m\u001b[32;49mpython3 -m pip install --upgrade pip\u001b[0m\n",
      "Defaulting to user installation because normal site-packages is not writeable\n",
      "Requirement already satisfied: weightwatcher in ./.local/lib/python3.8/site-packages (0.7.1.5)\n",
      "Requirement already satisfied: numpy in ./.local/lib/python3.8/site-packages (from weightwatcher) (1.23.5)\n",
      "Requirement already satisfied: scikit-learn in /usr/lib/python3/dist-packages (from weightwatcher) (0.22.2.post1)\n",
      "Requirement already satisfied: matplotlib-inline in ./.local/lib/python3.8/site-packages (from weightwatcher) (0.1.6)\n",
      "Requirement already satisfied: pandas in ./.local/lib/python3.8/site-packages (from weightwatcher) (1.5.3)\n",
      "Requirement already satisfied: tqdm in ./.local/lib/python3.8/site-packages (from weightwatcher) (4.64.1)\n",
      "Requirement already satisfied: powerlaw in ./.local/lib/python3.8/site-packages (from weightwatcher) (1.5)\n",
      "Requirement already satisfied: matplotlib in ./.local/lib/python3.8/site-packages (from weightwatcher) (3.6.3)\n",
      "Requirement already satisfied: fonttools>=4.22.0 in ./.local/lib/python3.8/site-packages (from matplotlib->weightwatcher) (4.39.0)\n",
      "Requirement already satisfied: packaging>=20.0 in ./.local/lib/python3.8/site-packages (from matplotlib->weightwatcher) (23.0)\n",
      "Requirement already satisfied: pillow>=6.2.0 in /usr/lib/python3/dist-packages (from matplotlib->weightwatcher) (7.0.0)\n",
      "Requirement already satisfied: cycler>=0.10 in /usr/lib/python3/dist-packages (from matplotlib->weightwatcher) (0.10.0)\n",
      "Requirement already satisfied: python-dateutil>=2.7 in ./.local/lib/python3.8/site-packages (from matplotlib->weightwatcher) (2.8.2)\n",
      "Requirement already satisfied: contourpy>=1.0.1 in ./.local/lib/python3.8/site-packages (from matplotlib->weightwatcher) (1.0.7)\n",
      "Requirement already satisfied: kiwisolver>=1.0.1 in /usr/lib/python3/dist-packages (from matplotlib->weightwatcher) (1.0.1)\n",
      "Requirement already satisfied: pyparsing>=2.2.1 in /usr/lib/python3/dist-packages (from matplotlib->weightwatcher) (2.4.6)\n",
      "Requirement already satisfied: traitlets in ./.local/lib/python3.8/site-packages (from matplotlib-inline->weightwatcher) (5.9.0)\n",
      "Requirement already satisfied: pytz>=2020.1 in ./.local/lib/python3.8/site-packages (from pandas->weightwatcher) (2022.7.1)\n",
      "Requirement already satisfied: scipy in ./.local/lib/python3.8/site-packages (from powerlaw->weightwatcher) (1.9.3)\n",
      "Requirement already satisfied: mpmath in ./.local/lib/python3.8/site-packages (from powerlaw->weightwatcher) (1.3.0)\n",
      "Requirement already satisfied: six>=1.5 in /usr/lib/python3/dist-packages (from python-dateutil>=2.7->matplotlib->weightwatcher) (1.14.0)\n",
      "\n",
      "\u001b[1m[\u001b[0m\u001b[34;49mnotice\u001b[0m\u001b[1;39;49m]\u001b[0m\u001b[39;49m A new release of pip is available: \u001b[0m\u001b[31;49m23.0.1\u001b[0m\u001b[39;49m -> \u001b[0m\u001b[32;49m23.2.1\u001b[0m\n",
      "\u001b[1m[\u001b[0m\u001b[34;49mnotice\u001b[0m\u001b[1;39;49m]\u001b[0m\u001b[39;49m To update, run: \u001b[0m\u001b[32;49mpython3 -m pip install --upgrade pip\u001b[0m\n"
     ]
    }
   ],
   "source": [
    "!pip install transformers\n",
    "!pip install einops\n",
    "!pip install weightwatcher"
   ]
  },
  {
   "cell_type": "code",
   "execution_count": 2,
   "id": "2a8c12ba-1429-47cf-b575-0604f5011027",
   "metadata": {},
   "outputs": [
    {
     "name": "stderr",
     "output_type": "stream",
     "text": [
      "/home/ubuntu/.local/lib/python3.8/site-packages/pandas/core/computation/expressions.py:20: UserWarning: Pandas requires version '2.7.3' or newer of 'numexpr' (version '2.7.1' currently installed).\n",
      "  from pandas.core.computation.check import NUMEXPR_INSTALLED\n"
     ]
    }
   ],
   "source": [
    "from transformers import AutoModel, AutoModelForCausalLM\n",
    "import weightwatcher as ww\n",
    "\n",
    "import matplotlib.pyplot as plt\n",
    "import numpy as np\n",
    "\n",
    "import pandas as pd\n",
    "pd.set_option('display.max_rows', 500)\n",
    "pd.set_option('display.max_columns', 500)\n",
    "\n",
    "import warnings\n",
    "import logging\n",
    "warnings.filterwarnings(\"ignore\")\n",
    "# Filter logs from WeightWatcher\n",
    "logging.getLogger(\"weightwatcher\").setLevel(logging.ERROR)\n",
    "\n",
    "# Set root logger level to WARNING\n",
    "logging.getLogger().setLevel(logging.WARNING)\n",
    "\n",
    "import matplotlib.pyplot as plt\n",
    "import seaborn as sns\n",
    "\n",
    "import time"
   ]
  },
  {
   "cell_type": "markdown",
   "id": "0564fdde-dbd1-4a0b-81d5-97e3e165b3d6",
   "metadata": {},
   "source": [
    "## 35_Pythia-6.9B"
   ]
  },
  {
   "cell_type": "code",
   "execution_count": 4,
   "id": "dd7985ba-83e2-48ad-9d2d-adcbcb309eda",
   "metadata": {},
   "outputs": [
    {
     "data": {
      "application/vnd.jupyter.widget-view+json": {
       "model_id": "278f4c3db80748d6b82f4be7f3bd20a6",
       "version_major": 2,
       "version_minor": 0
      },
      "text/plain": [
       "Downloading (…)lve/main/config.json:   0%|          | 0.00/538 [00:00<?, ?B/s]"
      ]
     },
     "metadata": {},
     "output_type": "display_data"
    },
    {
     "data": {
      "application/vnd.jupyter.widget-view+json": {
       "model_id": "b804cac2418d47129e40c003078b370e",
       "version_major": 2,
       "version_minor": 0
      },
      "text/plain": [
       "Downloading (…)model.bin.index.json:   0%|          | 0.00/42.0k [00:00<?, ?B/s]"
      ]
     },
     "metadata": {},
     "output_type": "display_data"
    },
    {
     "data": {
      "application/vnd.jupyter.widget-view+json": {
       "model_id": "f497869f3e884380838dc9d4d73ab26f",
       "version_major": 2,
       "version_minor": 0
      },
      "text/plain": [
       "Downloading shards:   0%|          | 0/2 [00:00<?, ?it/s]"
      ]
     },
     "metadata": {},
     "output_type": "display_data"
    },
    {
     "data": {
      "application/vnd.jupyter.widget-view+json": {
       "model_id": "45ef06feb5704eba801f7c2a591696ed",
       "version_major": 2,
       "version_minor": 0
      },
      "text/plain": [
       "Downloading (…)l-00001-of-00002.bin:   0%|          | 0.00/9.91G [00:00<?, ?B/s]"
      ]
     },
     "metadata": {},
     "output_type": "display_data"
    },
    {
     "data": {
      "application/vnd.jupyter.widget-view+json": {
       "model_id": "4214f5e231354f9bb865183576cc5f27",
       "version_major": 2,
       "version_minor": 0
      },
      "text/plain": [
       "Downloading (…)l-00002-of-00002.bin:   0%|          | 0.00/3.94G [00:00<?, ?B/s]"
      ]
     },
     "metadata": {},
     "output_type": "display_data"
    },
    {
     "data": {
      "application/vnd.jupyter.widget-view+json": {
       "model_id": "63b58cadcf8e4103976633bbfa9a358f",
       "version_major": 2,
       "version_minor": 0
      },
      "text/plain": [
       "Loading checkpoint shards:   0%|          | 0/2 [00:00<?, ?it/s]"
      ]
     },
     "metadata": {},
     "output_type": "display_data"
    },
    {
     "name": "stdout",
     "output_type": "stream",
     "text": [
      "Now Analysing....\n",
      "saving Results....\n",
      "Executed the code in: 903.3365719169997 seconds\n"
     ]
    }
   ],
   "source": [
    "try:\n",
    "    del model\n",
    "    del watcher\n",
    "    del results\n",
    "except NameError:\n",
    "    pass\n",
    "\n",
    "t0 = time.perf_counter()\n",
    "\n",
    "model=\"EleutherAI/pythia-6.9b-v0\"\n",
    "file_name = '35_Pythia-6.9B.csv'\n",
    "\n",
    "#loading\n",
    "model = AutoModelForCausalLM.from_pretrained(model)\n",
    "\n",
    "#analysing\n",
    "print('Now Analysing....')\n",
    "watcher = ww.WeightWatcher(model=model)\n",
    "results= watcher.analyze()\n",
    "t1 = time.perf_counter()\n",
    "\n",
    "print('saving Results....')\n",
    "\n",
    "#Saving\n",
    "results.to_csv(file_name)\n",
    "\n",
    "#Logging Execution time\n",
    "execution_time = t1 - t0\n",
    "print(f\"Executed the code in: {execution_time} seconds\")"
   ]
  },
  {
   "cell_type": "markdown",
   "id": "51699f70-43bf-4d6f-a50c-f533bd21662a",
   "metadata": {},
   "source": [
    "## 36_polyglot_12.8B"
   ]
  },
  {
   "cell_type": "code",
   "execution_count": 5,
   "id": "1d36b812-8af8-4fb8-955f-5206576ef418",
   "metadata": {},
   "outputs": [
    {
     "data": {
      "application/vnd.jupyter.widget-view+json": {
       "model_id": "839488f179a84daca9c66f73bb5937c1",
       "version_major": 2,
       "version_minor": 0
      },
      "text/plain": [
       "Downloading (…)lve/main/config.json:   0%|          | 0.00/678 [00:00<?, ?B/s]"
      ]
     },
     "metadata": {},
     "output_type": "display_data"
    },
    {
     "data": {
      "application/vnd.jupyter.widget-view+json": {
       "model_id": "3aecc22d548447419b1d9fd756e53b9d",
       "version_major": 2,
       "version_minor": 0
      },
      "text/plain": [
       "Downloading (…)fetensors.index.json:   0%|          | 0.00/52.5k [00:00<?, ?B/s]"
      ]
     },
     "metadata": {},
     "output_type": "display_data"
    },
    {
     "data": {
      "application/vnd.jupyter.widget-view+json": {
       "model_id": "4fb6f94bb6ee4b8ea379b0b74069b8b5",
       "version_major": 2,
       "version_minor": 0
      },
      "text/plain": [
       "Downloading shards:   0%|          | 0/28 [00:00<?, ?it/s]"
      ]
     },
     "metadata": {},
     "output_type": "display_data"
    },
    {
     "data": {
      "application/vnd.jupyter.widget-view+json": {
       "model_id": "f19233e6377a4d2189ee0744b14285ea",
       "version_major": 2,
       "version_minor": 0
      },
      "text/plain": [
       "Downloading (…)of-00028.safetensors:   0%|          | 0.00/946M [00:00<?, ?B/s]"
      ]
     },
     "metadata": {},
     "output_type": "display_data"
    },
    {
     "data": {
      "application/vnd.jupyter.widget-view+json": {
       "model_id": "e48c01d0aca843acb4e8b9ea4af40b3d",
       "version_major": 2,
       "version_minor": 0
      },
      "text/plain": [
       "Downloading (…)of-00028.safetensors:   0%|          | 0.00/843M [00:00<?, ?B/s]"
      ]
     },
     "metadata": {},
     "output_type": "display_data"
    },
    {
     "data": {
      "application/vnd.jupyter.widget-view+json": {
       "model_id": "859eb03627584effa22bc1662adecd1b",
       "version_major": 2,
       "version_minor": 0
      },
      "text/plain": [
       "Downloading (…)of-00028.safetensors:   0%|          | 0.00/843M [00:00<?, ?B/s]"
      ]
     },
     "metadata": {},
     "output_type": "display_data"
    },
    {
     "data": {
      "application/vnd.jupyter.widget-view+json": {
       "model_id": "2fca4a496a4243dabc8d10a20613b61e",
       "version_major": 2,
       "version_minor": 0
      },
      "text/plain": [
       "Downloading (…)of-00028.safetensors:   0%|          | 0.00/1.00G [00:00<?, ?B/s]"
      ]
     },
     "metadata": {},
     "output_type": "display_data"
    },
    {
     "data": {
      "application/vnd.jupyter.widget-view+json": {
       "model_id": "8f5df4a4b0284c3c98d43c9ad33bf97b",
       "version_major": 2,
       "version_minor": 0
      },
      "text/plain": [
       "Downloading (…)of-00028.safetensors:   0%|          | 0.00/896M [00:00<?, ?B/s]"
      ]
     },
     "metadata": {},
     "output_type": "display_data"
    },
    {
     "data": {
      "application/vnd.jupyter.widget-view+json": {
       "model_id": "69d942ae34bb4887ad32f1fffa02bb58",
       "version_major": 2,
       "version_minor": 0
      },
      "text/plain": [
       "Downloading (…)of-00028.safetensors:   0%|          | 0.00/1.00G [00:00<?, ?B/s]"
      ]
     },
     "metadata": {},
     "output_type": "display_data"
    },
    {
     "data": {
      "application/vnd.jupyter.widget-view+json": {
       "model_id": "99ca43e141274191bf0de440e8d08ab7",
       "version_major": 2,
       "version_minor": 0
      },
      "text/plain": [
       "Downloading (…)of-00028.safetensors:   0%|          | 0.00/896M [00:00<?, ?B/s]"
      ]
     },
     "metadata": {},
     "output_type": "display_data"
    },
    {
     "data": {
      "application/vnd.jupyter.widget-view+json": {
       "model_id": "9a00d7da47e746489b6a9b2aa2301780",
       "version_major": 2,
       "version_minor": 0
      },
      "text/plain": [
       "Downloading (…)of-00028.safetensors:   0%|          | 0.00/1.00G [00:00<?, ?B/s]"
      ]
     },
     "metadata": {},
     "output_type": "display_data"
    },
    {
     "data": {
      "application/vnd.jupyter.widget-view+json": {
       "model_id": "44e8701c7d46401299a4d9191abdd020",
       "version_major": 2,
       "version_minor": 0
      },
      "text/plain": [
       "Downloading (…)of-00028.safetensors:   0%|          | 0.00/896M [00:00<?, ?B/s]"
      ]
     },
     "metadata": {},
     "output_type": "display_data"
    },
    {
     "data": {
      "application/vnd.jupyter.widget-view+json": {
       "model_id": "38a3f19a66f74ec085a20205654e6fd3",
       "version_major": 2,
       "version_minor": 0
      },
      "text/plain": [
       "Downloading (…)of-00028.safetensors:   0%|          | 0.00/1.00G [00:00<?, ?B/s]"
      ]
     },
     "metadata": {},
     "output_type": "display_data"
    },
    {
     "data": {
      "application/vnd.jupyter.widget-view+json": {
       "model_id": "2617b138db894b35823ceedbd75f7377",
       "version_major": 2,
       "version_minor": 0
      },
      "text/plain": [
       "Downloading (…)of-00028.safetensors:   0%|          | 0.00/896M [00:00<?, ?B/s]"
      ]
     },
     "metadata": {},
     "output_type": "display_data"
    },
    {
     "data": {
      "application/vnd.jupyter.widget-view+json": {
       "model_id": "258530d063e74db1bdaa5580a58af70c",
       "version_major": 2,
       "version_minor": 0
      },
      "text/plain": [
       "Downloading (…)of-00028.safetensors:   0%|          | 0.00/1.00G [00:00<?, ?B/s]"
      ]
     },
     "metadata": {},
     "output_type": "display_data"
    },
    {
     "data": {
      "application/vnd.jupyter.widget-view+json": {
       "model_id": "df12f795d9a249b8a9ca21aa8cf49dac",
       "version_major": 2,
       "version_minor": 0
      },
      "text/plain": [
       "Downloading (…)of-00028.safetensors:   0%|          | 0.00/896M [00:00<?, ?B/s]"
      ]
     },
     "metadata": {},
     "output_type": "display_data"
    },
    {
     "data": {
      "application/vnd.jupyter.widget-view+json": {
       "model_id": "1d9197084f484fb59c67866ab739fb2b",
       "version_major": 2,
       "version_minor": 0
      },
      "text/plain": [
       "Downloading (…)of-00028.safetensors:   0%|          | 0.00/1.00G [00:00<?, ?B/s]"
      ]
     },
     "metadata": {},
     "output_type": "display_data"
    },
    {
     "data": {
      "application/vnd.jupyter.widget-view+json": {
       "model_id": "0b906b447dd44b7d8a7b6e164c948346",
       "version_major": 2,
       "version_minor": 0
      },
      "text/plain": [
       "Downloading (…)of-00028.safetensors:   0%|          | 0.00/896M [00:00<?, ?B/s]"
      ]
     },
     "metadata": {},
     "output_type": "display_data"
    },
    {
     "data": {
      "application/vnd.jupyter.widget-view+json": {
       "model_id": "1d6923b995114735889483feeca4fd1d",
       "version_major": 2,
       "version_minor": 0
      },
      "text/plain": [
       "Downloading (…)of-00028.safetensors:   0%|          | 0.00/1.00G [00:00<?, ?B/s]"
      ]
     },
     "metadata": {},
     "output_type": "display_data"
    },
    {
     "data": {
      "application/vnd.jupyter.widget-view+json": {
       "model_id": "4c6e0268a597452e9a2ffbe95eff42a2",
       "version_major": 2,
       "version_minor": 0
      },
      "text/plain": [
       "Downloading (…)of-00028.safetensors:   0%|          | 0.00/896M [00:00<?, ?B/s]"
      ]
     },
     "metadata": {},
     "output_type": "display_data"
    },
    {
     "data": {
      "application/vnd.jupyter.widget-view+json": {
       "model_id": "1f8739c670a84629a68ddc5fcbe4156a",
       "version_major": 2,
       "version_minor": 0
      },
      "text/plain": [
       "Downloading (…)of-00028.safetensors:   0%|          | 0.00/1.00G [00:00<?, ?B/s]"
      ]
     },
     "metadata": {},
     "output_type": "display_data"
    },
    {
     "data": {
      "application/vnd.jupyter.widget-view+json": {
       "model_id": "51869976143840c5be7c74bb86913c4f",
       "version_major": 2,
       "version_minor": 0
      },
      "text/plain": [
       "Downloading (…)of-00028.safetensors:   0%|          | 0.00/896M [00:00<?, ?B/s]"
      ]
     },
     "metadata": {},
     "output_type": "display_data"
    },
    {
     "data": {
      "application/vnd.jupyter.widget-view+json": {
       "model_id": "68bd2907480743d3b8952ef87fa56c3e",
       "version_major": 2,
       "version_minor": 0
      },
      "text/plain": [
       "Downloading (…)of-00028.safetensors:   0%|          | 0.00/1.00G [00:00<?, ?B/s]"
      ]
     },
     "metadata": {},
     "output_type": "display_data"
    },
    {
     "data": {
      "application/vnd.jupyter.widget-view+json": {
       "model_id": "c920d6125b274001bb5550e141a1aa40",
       "version_major": 2,
       "version_minor": 0
      },
      "text/plain": [
       "Downloading (…)of-00028.safetensors:   0%|          | 0.00/896M [00:00<?, ?B/s]"
      ]
     },
     "metadata": {},
     "output_type": "display_data"
    },
    {
     "data": {
      "application/vnd.jupyter.widget-view+json": {
       "model_id": "3721ecfeae71481a8adfd0f8e5f27355",
       "version_major": 2,
       "version_minor": 0
      },
      "text/plain": [
       "Downloading (…)of-00028.safetensors:   0%|          | 0.00/1.00G [00:00<?, ?B/s]"
      ]
     },
     "metadata": {},
     "output_type": "display_data"
    },
    {
     "data": {
      "application/vnd.jupyter.widget-view+json": {
       "model_id": "2d782a92b429465fa1294ac11dd8358a",
       "version_major": 2,
       "version_minor": 0
      },
      "text/plain": [
       "Downloading (…)of-00028.safetensors:   0%|          | 0.00/896M [00:00<?, ?B/s]"
      ]
     },
     "metadata": {},
     "output_type": "display_data"
    },
    {
     "data": {
      "application/vnd.jupyter.widget-view+json": {
       "model_id": "50bd4257ffd44a19b40e4fef90adfe58",
       "version_major": 2,
       "version_minor": 0
      },
      "text/plain": [
       "Downloading (…)of-00028.safetensors:   0%|          | 0.00/1.00G [00:00<?, ?B/s]"
      ]
     },
     "metadata": {},
     "output_type": "display_data"
    },
    {
     "data": {
      "application/vnd.jupyter.widget-view+json": {
       "model_id": "d253e2edcb024fa797634f3e3fcd2968",
       "version_major": 2,
       "version_minor": 0
      },
      "text/plain": [
       "Downloading (…)of-00028.safetensors:   0%|          | 0.00/896M [00:00<?, ?B/s]"
      ]
     },
     "metadata": {},
     "output_type": "display_data"
    },
    {
     "data": {
      "application/vnd.jupyter.widget-view+json": {
       "model_id": "0c76d500ebf0479d907c6e8ae2ac688d",
       "version_major": 2,
       "version_minor": 0
      },
      "text/plain": [
       "Downloading (…)of-00028.safetensors:   0%|          | 0.00/1.00G [00:00<?, ?B/s]"
      ]
     },
     "metadata": {},
     "output_type": "display_data"
    },
    {
     "data": {
      "application/vnd.jupyter.widget-view+json": {
       "model_id": "ef8d8eaea0784de4a08a8cf038054e3d",
       "version_major": 2,
       "version_minor": 0
      },
      "text/plain": [
       "Downloading (…)of-00028.safetensors:   0%|          | 0.00/896M [00:00<?, ?B/s]"
      ]
     },
     "metadata": {},
     "output_type": "display_data"
    },
    {
     "data": {
      "application/vnd.jupyter.widget-view+json": {
       "model_id": "d3c7cbbd0e5a444bb7b3f7cb3639e602",
       "version_major": 2,
       "version_minor": 0
      },
      "text/plain": [
       "Downloading (…)of-00028.safetensors:   0%|          | 0.00/518M [00:00<?, ?B/s]"
      ]
     },
     "metadata": {},
     "output_type": "display_data"
    },
    {
     "data": {
      "application/vnd.jupyter.widget-view+json": {
       "model_id": "a6e5669776c340dca8dbbb93122df5f8",
       "version_major": 2,
       "version_minor": 0
      },
      "text/plain": [
       "Loading checkpoint shards:   0%|          | 0/28 [00:00<?, ?it/s]"
      ]
     },
     "metadata": {},
     "output_type": "display_data"
    },
    {
     "data": {
      "application/vnd.jupyter.widget-view+json": {
       "model_id": "64f54c305fbf4ac5af6baee5c7c72309",
       "version_major": 2,
       "version_minor": 0
      },
      "text/plain": [
       "Downloading (…)neration_config.json:   0%|          | 0.00/111 [00:00<?, ?B/s]"
      ]
     },
     "metadata": {},
     "output_type": "display_data"
    },
    {
     "name": "stdout",
     "output_type": "stream",
     "text": [
      "Now Analysing....\n",
      "saving Results....\n",
      "Executed the code in: 1978.0416246910008 seconds\n"
     ]
    }
   ],
   "source": [
    "try:\n",
    "    del model\n",
    "    del watcher\n",
    "    del results\n",
    "except NameError:\n",
    "    pass\n",
    "\n",
    "t0 = time.perf_counter()\n",
    "\n",
    "model=\"EleutherAI/polyglot-ko-12.8b\"\n",
    "file_name = '36_polyglot_12.8.csv'\n",
    "\n",
    "#loading\n",
    "model = AutoModelForCausalLM.from_pretrained(model)\n",
    "\n",
    "#analysing\n",
    "print('Now Analysing....')\n",
    "watcher = ww.WeightWatcher(model=model)\n",
    "results= watcher.analyze()\n",
    "t1 = time.perf_counter()\n",
    "\n",
    "print('saving Results....')\n",
    "\n",
    "#Saving\n",
    "results.to_csv(file_name)\n",
    "\n",
    "#Logging Execution time\n",
    "execution_time = t1 - t0\n",
    "print(f\"Executed the code in: {execution_time} seconds\")"
   ]
  },
  {
   "cell_type": "markdown",
   "id": "de135adf-85b3-44f6-aaf3-5e0703cb0491",
   "metadata": {},
   "source": [
    "## 37_gogpt2.7B"
   ]
  },
  {
   "cell_type": "code",
   "execution_count": 6,
   "id": "205b099a-c2ec-4945-b20d-0e2ddfa9044e",
   "metadata": {},
   "outputs": [
    {
     "data": {
      "application/vnd.jupyter.widget-view+json": {
       "model_id": "49e7d91e31ed483da4df184aa2022d7f",
       "version_major": 2,
       "version_minor": 0
      },
      "text/plain": [
       "Downloading (…)lve/main/config.json:   0%|          | 0.00/671 [00:00<?, ?B/s]"
      ]
     },
     "metadata": {},
     "output_type": "display_data"
    },
    {
     "data": {
      "application/vnd.jupyter.widget-view+json": {
       "model_id": "1480fc73df5949fcb49edb6c8ca209d5",
       "version_major": 2,
       "version_minor": 0
      },
      "text/plain": [
       "Downloading (…)model.bin.index.json:   0%|          | 0.00/26.8k [00:00<?, ?B/s]"
      ]
     },
     "metadata": {},
     "output_type": "display_data"
    },
    {
     "data": {
      "application/vnd.jupyter.widget-view+json": {
       "model_id": "8eb0d07338254ed0b9b409670859ac6a",
       "version_major": 2,
       "version_minor": 0
      },
      "text/plain": [
       "Downloading shards:   0%|          | 0/2 [00:00<?, ?it/s]"
      ]
     },
     "metadata": {},
     "output_type": "display_data"
    },
    {
     "data": {
      "application/vnd.jupyter.widget-view+json": {
       "model_id": "5746db09f88a4338bb8678cf56b33755",
       "version_major": 2,
       "version_minor": 0
      },
      "text/plain": [
       "Downloading (…)l-00001-of-00002.bin:   0%|          | 0.00/9.97G [00:00<?, ?B/s]"
      ]
     },
     "metadata": {},
     "output_type": "display_data"
    },
    {
     "data": {
      "application/vnd.jupyter.widget-view+json": {
       "model_id": "ac4a3dbfd02b4d24a17c27ff6cebec4f",
       "version_major": 2,
       "version_minor": 0
      },
      "text/plain": [
       "Downloading (…)l-00002-of-00002.bin:   0%|          | 0.00/4.10G [00:00<?, ?B/s]"
      ]
     },
     "metadata": {},
     "output_type": "display_data"
    },
    {
     "data": {
      "application/vnd.jupyter.widget-view+json": {
       "model_id": "bd59d4d5b7864d42ab6372948dd6e633",
       "version_major": 2,
       "version_minor": 0
      },
      "text/plain": [
       "Loading checkpoint shards:   0%|          | 0/2 [00:00<?, ?it/s]"
      ]
     },
     "metadata": {},
     "output_type": "display_data"
    },
    {
     "data": {
      "application/vnd.jupyter.widget-view+json": {
       "model_id": "58d1e1e4070044d9a7ec8745f5ad2697",
       "version_major": 2,
       "version_minor": 0
      },
      "text/plain": [
       "Downloading (…)neration_config.json:   0%|          | 0.00/174 [00:00<?, ?B/s]"
      ]
     },
     "metadata": {},
     "output_type": "display_data"
    },
    {
     "name": "stdout",
     "output_type": "stream",
     "text": [
      "Now Analysing....\n",
      "saving Results....\n",
      "Executed the code in: 1205.6423176870012 seconds\n"
     ]
    }
   ],
   "source": [
    "try:\n",
    "    del model\n",
    "    del watcher\n",
    "    del results\n",
    "except NameError:\n",
    "    pass\n",
    "\n",
    "t0 = time.perf_counter()\n",
    "\n",
    "model=\"golaxy/gogpt2-7b\"\n",
    "file_name = '37_gogpt2.7B.csv'\n",
    "\n",
    "#loading\n",
    "model = AutoModelForCausalLM.from_pretrained(model)\n",
    "\n",
    "#analysing\n",
    "print('Now Analysing....')\n",
    "watcher = ww.WeightWatcher(model=model)\n",
    "results= watcher.analyze()\n",
    "t1 = time.perf_counter()\n",
    "\n",
    "print('saving Results....')\n",
    "\n",
    "#Saving\n",
    "results.to_csv(file_name)\n",
    "\n",
    "#Logging Execution time\n",
    "execution_time = t1 - t0\n",
    "print(f\"Executed the code in: {execution_time} seconds\")"
   ]
  },
  {
   "cell_type": "markdown",
   "id": "c2dcefc0-45b4-4504-8b15-5de662b2b829",
   "metadata": {},
   "source": [
    "## 38_open_llama_13b"
   ]
  },
  {
   "cell_type": "code",
   "execution_count": 8,
   "id": "a6a81dde-00b5-413f-a638-7765c5d5a20e",
   "metadata": {},
   "outputs": [
    {
     "data": {
      "application/vnd.jupyter.widget-view+json": {
       "model_id": "9f33c156711742c3bc9554c564557b79",
       "version_major": 2,
       "version_minor": 0
      },
      "text/plain": [
       "Downloading (…)lve/main/config.json:   0%|          | 0.00/507 [00:00<?, ?B/s]"
      ]
     },
     "metadata": {},
     "output_type": "display_data"
    },
    {
     "data": {
      "application/vnd.jupyter.widget-view+json": {
       "model_id": "39d91f989fc24f6fa3b399c83c20e8b3",
       "version_major": 2,
       "version_minor": 0
      },
      "text/plain": [
       "Downloading (…)model.bin.index.json:   0%|          | 0.00/33.4k [00:00<?, ?B/s]"
      ]
     },
     "metadata": {},
     "output_type": "display_data"
    },
    {
     "data": {
      "application/vnd.jupyter.widget-view+json": {
       "model_id": "3a01991b62b94eeda04b515829236763",
       "version_major": 2,
       "version_minor": 0
      },
      "text/plain": [
       "Downloading shards:   0%|          | 0/3 [00:00<?, ?it/s]"
      ]
     },
     "metadata": {},
     "output_type": "display_data"
    },
    {
     "data": {
      "application/vnd.jupyter.widget-view+json": {
       "model_id": "0d15dfe1845340eebf3200acf5b4dee6",
       "version_major": 2,
       "version_minor": 0
      },
      "text/plain": [
       "Downloading (…)l-00001-of-00003.bin:   0%|          | 0.00/9.95G [00:00<?, ?B/s]"
      ]
     },
     "metadata": {},
     "output_type": "display_data"
    },
    {
     "data": {
      "application/vnd.jupyter.widget-view+json": {
       "model_id": "7430dfff61ab411eba1d89f8696313cb",
       "version_major": 2,
       "version_minor": 0
      },
      "text/plain": [
       "Downloading (…)l-00002-of-00003.bin:   0%|          | 0.00/9.90G [00:00<?, ?B/s]"
      ]
     },
     "metadata": {},
     "output_type": "display_data"
    },
    {
     "data": {
      "application/vnd.jupyter.widget-view+json": {
       "model_id": "6937c54119df4ee9a616ca0e92cc8776",
       "version_major": 2,
       "version_minor": 0
      },
      "text/plain": [
       "Downloading (…)l-00003-of-00003.bin:   0%|          | 0.00/6.18G [00:00<?, ?B/s]"
      ]
     },
     "metadata": {},
     "output_type": "display_data"
    },
    {
     "data": {
      "application/vnd.jupyter.widget-view+json": {
       "model_id": "29164212f82344998d8035383ebdc21e",
       "version_major": 2,
       "version_minor": 0
      },
      "text/plain": [
       "Loading checkpoint shards:   0%|          | 0/3 [00:00<?, ?it/s]"
      ]
     },
     "metadata": {},
     "output_type": "display_data"
    },
    {
     "data": {
      "application/vnd.jupyter.widget-view+json": {
       "model_id": "5b68df09445b4f9c835b1e45dee9c87e",
       "version_major": 2,
       "version_minor": 0
      },
      "text/plain": [
       "Downloading (…)neration_config.json:   0%|          | 0.00/137 [00:00<?, ?B/s]"
      ]
     },
     "metadata": {},
     "output_type": "display_data"
    },
    {
     "name": "stdout",
     "output_type": "stream",
     "text": [
      "Now Analysing....\n",
      "saving Results....\n",
      "Executed the code in: 2556.093379556005 seconds\n"
     ]
    }
   ],
   "source": [
    "try:\n",
    "    del model\n",
    "    del watcher\n",
    "    del results\n",
    "except NameError:\n",
    "    pass\n",
    "\n",
    "t0 = time.perf_counter()\n",
    "\n",
    "model=\"openlm-research/open_llama_13b\"\n",
    "file_name = '38_open_llama_13b.csv'\n",
    "\n",
    "#loading\n",
    "model = AutoModelForCausalLM.from_pretrained(model)\n",
    "\n",
    "#analysing\n",
    "print('Now Analysing....')\n",
    "watcher = ww.WeightWatcher(model=model)\n",
    "results= watcher.analyze()\n",
    "t1 = time.perf_counter()\n",
    "\n",
    "print('saving Results....')\n",
    "\n",
    "#Saving\n",
    "results.to_csv(file_name)\n",
    "\n",
    "#Logging Execution time\n",
    "execution_time = t1 - t0\n",
    "print(f\"Executed the code in: {execution_time} seconds\")"
   ]
  },
  {
   "cell_type": "markdown",
   "id": "931878c7-3324-49b8-a451-4f9390b62548",
   "metadata": {},
   "source": [
    "## 39_FinOPT_350M"
   ]
  },
  {
   "cell_type": "code",
   "execution_count": 11,
   "id": "72e8d1e0-e084-41f3-ab98-3f223f7515e2",
   "metadata": {},
   "outputs": [
    {
     "name": "stdout",
     "output_type": "stream",
     "text": [
      "Now Analysing....\n",
      "saving Results....\n",
      "Executed the code in: 25.63668984799733 seconds\n"
     ]
    }
   ],
   "source": [
    "try:\n",
    "    del model\n",
    "    del watcher\n",
    "    del results\n",
    "except NameError:\n",
    "    pass\n",
    "\n",
    "t0 = time.perf_counter()\n",
    "\n",
    "model=\"MayaPH/FinOPT-Lincoln\"\n",
    "file_name = '39_FinOPT_350M.csv'\n",
    "\n",
    "#loading\n",
    "model = AutoModelForCausalLM.from_pretrained(model)\n",
    "\n",
    "#analysing\n",
    "print('Now Analysing....')\n",
    "watcher = ww.WeightWatcher(model=model)\n",
    "results= watcher.analyze()\n",
    "t1 = time.perf_counter()\n",
    "\n",
    "print('saving Results....')\n",
    "\n",
    "#Saving\n",
    "results.to_csv(file_name)\n",
    "\n",
    "#Logging Execution time\n",
    "execution_time = t1 - t0\n",
    "print(f\"Executed the code in: {execution_time} seconds\")"
   ]
  },
  {
   "cell_type": "markdown",
   "id": "b6f9521b-6051-471a-9f2d-02705456c513",
   "metadata": {},
   "source": [
    "## 40_Codegen_6B_multi"
   ]
  },
  {
   "cell_type": "code",
   "execution_count": 12,
   "id": "1c115cfb-e78a-475a-bb9b-7d3a9f76404f",
   "metadata": {},
   "outputs": [
    {
     "data": {
      "application/vnd.jupyter.widget-view+json": {
       "model_id": "e77161fcb75f4f23af8d8d1728e5bc95",
       "version_major": 2,
       "version_minor": 0
      },
      "text/plain": [
       "Downloading (…)lve/main/config.json:   0%|          | 0.00/998 [00:00<?, ?B/s]"
      ]
     },
     "metadata": {},
     "output_type": "display_data"
    },
    {
     "data": {
      "application/vnd.jupyter.widget-view+json": {
       "model_id": "af92fe2189ac48c4addd2b28a36cba53",
       "version_major": 2,
       "version_minor": 0
      },
      "text/plain": [
       "Downloading pytorch_model.bin:   0%|          | 0.00/14.3G [00:00<?, ?B/s]"
      ]
     },
     "metadata": {},
     "output_type": "display_data"
    },
    {
     "name": "stdout",
     "output_type": "stream",
     "text": [
      "Now Analysing....\n",
      "saving Results....\n",
      "Executed the code in: 890.4088191940027 seconds\n"
     ]
    }
   ],
   "source": [
    "try:\n",
    "    del model\n",
    "    del watcher\n",
    "    del results\n",
    "except NameError:\n",
    "    pass\n",
    "\n",
    "t0 = time.perf_counter()\n",
    "\n",
    "model=\"Salesforce/codegen-6B-multi\"\n",
    "file_name = '40_Codegen_multi_6B.csv'\n",
    "\n",
    "#loading\n",
    "model = AutoModelForCausalLM.from_pretrained(model)\n",
    "\n",
    "#analysing\n",
    "print('Now Analysing....')\n",
    "watcher = ww.WeightWatcher(model=model)\n",
    "results= watcher.analyze()\n",
    "t1 = time.perf_counter()\n",
    "\n",
    "print('saving Results....')\n",
    "\n",
    "#Saving\n",
    "results.to_csv(file_name)\n",
    "\n",
    "#Logging Execution time\n",
    "execution_time = t1 - t0\n",
    "print(f\"Executed the code in: {execution_time} seconds\")"
   ]
  },
  {
   "cell_type": "markdown",
   "id": "ab646796-5ad4-4dd5-8b6d-b688bf10f2a9",
   "metadata": {},
   "source": [
    "## 41_GPT_JT_6B"
   ]
  },
  {
   "cell_type": "code",
   "execution_count": 13,
   "id": "6bd06735-b22f-47f1-8c0d-ee5b1ac4245c",
   "metadata": {},
   "outputs": [
    {
     "data": {
      "application/vnd.jupyter.widget-view+json": {
       "model_id": "704c42f137944f55af1b84dbd2342906",
       "version_major": 2,
       "version_minor": 0
      },
      "text/plain": [
       "Downloading (…)lve/main/config.json:   0%|          | 0.00/1.02k [00:00<?, ?B/s]"
      ]
     },
     "metadata": {},
     "output_type": "display_data"
    },
    {
     "data": {
      "application/vnd.jupyter.widget-view+json": {
       "model_id": "dc188c55293342d6bc6fba2cb772918f",
       "version_major": 2,
       "version_minor": 0
      },
      "text/plain": [
       "Downloading pytorch_model.bin:   0%|          | 0.00/12.2G [00:00<?, ?B/s]"
      ]
     },
     "metadata": {},
     "output_type": "display_data"
    },
    {
     "name": "stdout",
     "output_type": "stream",
     "text": [
      "Now Analysing....\n",
      "saving Results....\n",
      "Executed the code in: 1035.5850220520006 seconds\n"
     ]
    }
   ],
   "source": [
    "try:\n",
    "    del model\n",
    "    del watcher\n",
    "    del results\n",
    "except NameError:\n",
    "    pass\n",
    "\n",
    "t0 = time.perf_counter()\n",
    "\n",
    "model=\"togethercomputer/GPT-JT-6B-v0\"\n",
    "file_name = '41_GPT_JT_6B.csv'\n",
    "\n",
    "#loading\n",
    "model = AutoModelForCausalLM.from_pretrained(model)\n",
    "\n",
    "#analysing\n",
    "print('Now Analysing....')\n",
    "watcher = ww.WeightWatcher(model=model)\n",
    "results= watcher.analyze()\n",
    "t1 = time.perf_counter()\n",
    "\n",
    "print('saving Results....')\n",
    "\n",
    "#Saving\n",
    "results.to_csv(file_name)\n",
    "\n",
    "#Logging Execution time\n",
    "execution_time = t1 - t0\n",
    "print(f\"Executed the code in: {execution_time} seconds\")"
   ]
  },
  {
   "cell_type": "code",
   "execution_count": null,
   "id": "afea9829-2b89-4b13-bc2b-3dd999bf4e45",
   "metadata": {},
   "outputs": [],
   "source": []
  }
 ],
 "metadata": {
  "kernelspec": {
   "display_name": "Python 3",
   "language": "python",
   "name": "python3"
  },
  "language_info": {
   "codemirror_mode": {
    "name": "ipython",
    "version": 3
   },
   "file_extension": ".py",
   "mimetype": "text/x-python",
   "name": "python",
   "nbconvert_exporter": "python",
   "pygments_lexer": "ipython3",
   "version": "3.8.10"
  }
 },
 "nbformat": 4,
 "nbformat_minor": 5
}
