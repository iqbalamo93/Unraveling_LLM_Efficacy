{
 "cells": [
  {
   "cell_type": "code",
   "execution_count": null,
   "id": "52e12dbf",
   "metadata": {},
   "outputs": [],
   "source": [
    "from transformers import AutoModel, AutoModelForCausalLM\n",
    "import weightwatcher as ww\n",
    "\n",
    "import matplotlib.pyplot as plt\n",
    "import numpy as np\n",
    "\n",
    "import pandas as pd\n",
    "pd.set_option('display.max_rows', 500)\n",
    "pd.set_option('display.max_columns', 500)\n",
    "\n",
    "import warnings\n",
    "import logging\n",
    "warnings.filterwarnings(\"ignore\")\n",
    "# Filter logs from WeightWatcher\n",
    "logging.getLogger(\"weightwatcher\").setLevel(logging.ERROR)\n",
    "\n",
    "# Set root logger level to WARNING\n",
    "logging.getLogger().setLevel(logging.WARNING)\n",
    "\n",
    "import matplotlib.pyplot as plt\n",
    "import seaborn as sns"
   ]
  },
  {
   "cell_type": "code",
   "execution_count": null,
   "id": "281340dd",
   "metadata": {},
   "outputs": [],
   "source": [
    "model_gpt_neo_20b = AutoModelForCausalLM.from_pretrained(\"EleutherAI/gpt-neox-20b\")"
   ]
  },
  {
   "cell_type": "code",
   "execution_count": null,
   "id": "a39c1d39",
   "metadata": {},
   "outputs": [],
   "source": [
    "model_opt_2_7b = AutoModelForCausalLM.from_pretrained(\"facebook/opt-13b\")"
   ]
  },
  {
   "cell_type": "code",
   "execution_count": null,
   "id": "b5ed672a",
   "metadata": {},
   "outputs": [],
   "source": []
  }
 ],
 "metadata": {
  "kernelspec": {
   "display_name": "Python 3 (ipykernel)",
   "language": "python",
   "name": "python3"
  },
  "language_info": {
   "codemirror_mode": {
    "name": "ipython",
    "version": 3
   },
   "file_extension": ".py",
   "mimetype": "text/x-python",
   "name": "python",
   "nbconvert_exporter": "python",
   "pygments_lexer": "ipython3",
   "version": "3.10.7"
  }
 },
 "nbformat": 4,
 "nbformat_minor": 5
}
