{
 "cells": [
  {
   "cell_type": "code",
   "execution_count": 1,
   "id": "7c7ee70c",
   "metadata": {},
   "outputs": [],
   "source": [
    "from sklearn.linear_model import LinearRegression\n",
    "from sklearn.metrics import mean_squared_error, r2_score\n",
    "import pandas as pd\n",
    "import numpy as np\n",
    "from collections import defaultdict"
   ]
  },
  {
   "cell_type": "code",
   "execution_count": 2,
   "id": "270c71f1",
   "metadata": {},
   "outputs": [],
   "source": [
    "df = pd.read_excel('./LLM_Analysis.xlsx',sheet_name='Liner Reg Data')\n",
    "df = df.drop(['No_spectrable_Matrices', 'Encoder/decoder Blocks','Rank'], axis=1)"
   ]
  },
  {
   "cell_type": "code",
   "execution_count": 3,
   "id": "731a02db",
   "metadata": {},
   "outputs": [],
   "source": [
    "fixed_variable = 'Param-Log10'\n",
    "targets = ['ARC', 'HELLASWAG', 'MMLU', 'TRUTHFULQA', 'PCT']\n",
    "free_variables = [ x for x in df.columns if x not in targets+[fixed_variable]+['Encoder/decoder Blocks','No_spectrable_Matrices'] ]"
   ]
  },
  {
   "cell_type": "code",
   "execution_count": 4,
   "id": "7e8d9061",
   "metadata": {},
   "outputs": [],
   "source": [
    "data = {}\n",
    "for test in targets:\n",
    "    record =  []\n",
    "    y = df[test]\n",
    "    for free_var in free_variables:\n",
    "        X = pd.concat([df[fixed_variable],df[free_var]],axis=1)\n",
    "        lr = LinearRegression().fit(X,y)\n",
    "        r_square = round(lr.score(X,y),3)\n",
    "        record.append((free_var,r_square))\n",
    "        record = sorted(record, key= lambda x:x[1],reverse=True)\n",
    "    data[test] = record"
   ]
  },
  {
   "cell_type": "code",
   "execution_count": 5,
   "id": "5ebc9da7",
   "metadata": {},
   "outputs": [
    {
     "name": "stdout",
     "output_type": "stream",
     "text": [
      "ARC [('Formula', 0.695), ('1/ER_MAX', 0.636), ('ER_RANGE', 0.632), ('ER_MAX', 0.625), ('1/ER_MIN', 0.609), ('1/ER_AVG', 0.599), ('1/ER_MED', 0.598), ('Alpha_mean', 0.592), ('ECN_STD', 0.592), ('Std_Rng_spec', 0.591), ('ER_MIN', 0.586), ('ER_AVG', 0.586), ('LOG_ECN_STD', 0.586), ('ER_MEDIAN', 0.581), ('SN_MEDIAN', 0.579), ('SR_MEDIAN', 0.579), ('LOG_SR_MEDIAN', 0.579), ('STD_Cond_Num', 0.579), ('SN_MEDIAN_LOG', 0.578), ('ECN_AVG', 0.577), ('CN_MEDIAN', 0.576), ('LOG_ECN_AVG', 0.572), ('ECN_MEDIAN', 0.571), ('Avg_Cond_Num', 0.569), ('LOG_ECN_MEDIAN', 0.569), ('SN_Range_Log', 0.568), ('Spectral_Norm_Min', 0.567), ('log_spectral_norm_max', 0.566), ('LOG_MAX_SPECTRAL_RANGE', 0.566), ('RangeCorr_Alpha_Reprted', 0.562), ('LOG_ECN_MIN', 0.562), ('ER_STD', 0.56), ('Spectral_Norm_Max', 0.559), ('Max_Spectral_Range', 0.559), ('Spectral_Range_out', 0.559), ('SN_MAX', 0.558), ('SN_range', 0.558), ('ECN_MAX', 0.558), ('ECN_MIN', 0.558), ('ECN_RANGE', 0.558), ('SN_MIN', 0.557), ('LOG_ECN_MAX', 0.557), ('LOG_ECN_RANGE', 0.557)] \n",
      "\n",
      "\n",
      "HELLASWAG [('ECN_STD', 0.699), ('Formula', 0.698), ('1/ER_AVG', 0.697), ('LOG_SR_MEDIAN', 0.696), ('ECN_MEDIAN', 0.696), ('ER_AVG', 0.696), ('log_spectral_norm_max', 0.695), ('SN_MEDIAN_LOG', 0.695), ('Std_Rng_spec', 0.695), ('LOG_MAX_SPECTRAL_RANGE', 0.695), ('SN_MEDIAN', 0.694), ('SR_MEDIAN', 0.694), ('LOG_ECN_STD', 0.694), ('Max_Spectral_Range', 0.693), ('Spectral_Norm_Max', 0.692), ('Spectral_Range_out', 0.692), ('Alpha_mean', 0.691), ('ECN_AVG', 0.69), ('LOG_ECN_MEDIAN', 0.69), ('ER_MIN', 0.689), ('LOG_ECN_AVG', 0.687), ('Spectral_Norm_Min', 0.682), ('ER_MEDIAN', 0.681), ('1/ER_MED', 0.681), ('ER_STD', 0.679), ('ECN_MAX', 0.678), ('ECN_RANGE', 0.678), ('LOG_ECN_MIN', 0.678), ('CN_MEDIAN', 0.677), ('1/ER_MIN', 0.676), ('Avg_Cond_Num', 0.675), ('ECN_MIN', 0.675), ('SN_MAX', 0.674), ('SN_MIN', 0.674), ('SN_range', 0.674), ('STD_Cond_Num', 0.674), ('1/ER_MAX', 0.674), ('ER_RANGE', 0.673), ('RangeCorr_Alpha_Reprted', 0.672), ('ER_MAX', 0.672), ('LOG_ECN_MAX', 0.672), ('LOG_ECN_RANGE', 0.672), ('SN_Range_Log', 0.671)] \n",
      "\n",
      "\n",
      "MMLU [('Formula', 0.624), ('1/ER_MAX', 0.498), ('ER_RANGE', 0.488), ('1/ER_MED', 0.487), ('ER_MAX', 0.476), ('1/ER_MIN', 0.456), ('Alpha_mean', 0.452), ('1/ER_AVG', 0.45), ('ER_MEDIAN', 0.445), ('CN_MEDIAN', 0.439), ('Std_Rng_spec', 0.429), ('ECN_STD', 0.429), ('SN_MEDIAN', 0.425), ('SR_MEDIAN', 0.424), ('ER_AVG', 0.424), ('LOG_SR_MEDIAN', 0.423), ('SN_MEDIAN_LOG', 0.421), ('ECN_AVG', 0.421), ('LOG_ECN_STD', 0.417), ('LOG_ECN_AVG', 0.408), ('ER_MIN', 0.404), ('ECN_MEDIAN', 0.4), ('LOG_ECN_MEDIAN', 0.4), ('STD_Cond_Num', 0.391), ('SN_Range_Log', 0.385), ('Spectral_Norm_Min', 0.379), ('Avg_Cond_Num', 0.377), ('log_spectral_norm_max', 0.37), ('LOG_MAX_SPECTRAL_RANGE', 0.37), ('ER_STD', 0.369), ('SN_MAX', 0.368), ('SN_range', 0.368), ('LOG_ECN_MIN', 0.367), ('RangeCorr_Alpha_Reprted', 0.362), ('Spectral_Norm_Max', 0.36), ('Max_Spectral_Range', 0.36), ('SN_MIN', 0.36), ('ECN_MIN', 0.36), ('LOG_ECN_MAX', 0.36), ('LOG_ECN_RANGE', 0.36), ('Spectral_Range_out', 0.359), ('ECN_MAX', 0.359), ('ECN_RANGE', 0.359)] \n",
      "\n",
      "\n",
      "TRUTHFULQA [('Formula', 0.279), ('1/ER_MAX', 0.168), ('ER_RANGE', 0.148), ('ER_MAX', 0.144), ('1/ER_MED', 0.13), ('1/ER_MIN', 0.098), ('STD_Cond_Num', 0.096), ('ER_MEDIAN', 0.08), ('LOG_ECN_MIN', 0.063), ('Alpha_mean', 0.057), ('Avg_Cond_Num', 0.056), ('SN_Range_Log', 0.052), ('1/ER_AVG', 0.051), ('Std_Rng_spec', 0.048), ('CN_MEDIAN', 0.036), ('ER_AVG', 0.032), ('ECN_STD', 0.026), ('LOG_ECN_STD', 0.023), ('ECN_AVG', 0.02), ('ER_MIN', 0.019), ('SN_MAX', 0.018), ('SN_range', 0.018), ('SN_MEDIAN', 0.018), ('SR_MEDIAN', 0.016), ('LOG_ECN_MAX', 0.016), ('LOG_ECN_RANGE', 0.016), ('Spectral_Range_out', 0.014), ('ECN_MIN', 0.014), ('LOG_ECN_AVG', 0.014), ('Spectral_Norm_Min', 0.013), ('Spectral_Norm_Max', 0.012), ('Max_Spectral_Range', 0.012), ('SN_MEDIAN_LOG', 0.012), ('ECN_MAX', 0.012), ('ECN_RANGE', 0.012), ('LOG_SR_MEDIAN', 0.011), ('SN_MIN', 0.01), ('ER_STD', 0.006), ('LOG_ECN_MEDIAN', 0.005), ('log_spectral_norm_max', 0.004), ('ECN_MEDIAN', 0.004), ('RangeCorr_Alpha_Reprted', 0.003), ('LOG_MAX_SPECTRAL_RANGE', 0.003)] \n",
      "\n",
      "\n",
      "PCT [('Formula', 0.695), ('1/ER_MAX', 0.602), ('ER_RANGE', 0.594), ('1/ER_MED', 0.592), ('ER_MAX', 0.586), ('1/ER_AVG', 0.583), ('1/ER_MIN', 0.58), ('Alpha_mean', 0.579), ('Std_Rng_spec', 0.574), ('ECN_STD', 0.572), ('ER_MEDIAN', 0.57), ('ER_AVG', 0.568), ('LOG_ECN_STD', 0.563), ('SN_MEDIAN', 0.561), ('SR_MEDIAN', 0.561), ('LOG_SR_MEDIAN', 0.559), ('SN_MEDIAN_LOG', 0.558), ('ECN_AVG', 0.558), ('ER_MIN', 0.556), ('CN_MEDIAN', 0.556), ('LOG_ECN_AVG', 0.55), ('ECN_MEDIAN', 0.546), ('LOG_ECN_MEDIAN', 0.545), ('Spectral_Norm_Min', 0.538), ('STD_Cond_Num', 0.538), ('log_spectral_norm_max', 0.535), ('LOG_MAX_SPECTRAL_RANGE', 0.535), ('SN_Range_Log', 0.533), ('Avg_Cond_Num', 0.529), ('ER_STD', 0.529), ('Spectral_Norm_Max', 0.525), ('Max_Spectral_Range', 0.525), ('Spectral_Range_out', 0.524), ('RangeCorr_Alpha_Reprted', 0.524), ('LOG_ECN_MIN', 0.524), ('SN_MAX', 0.523), ('SN_range', 0.523), ('ECN_MAX', 0.522), ('ECN_RANGE', 0.522), ('LOG_ECN_MAX', 0.522), ('LOG_ECN_RANGE', 0.522), ('SN_MIN', 0.521), ('ECN_MIN', 0.521)] \n",
      "\n",
      "\n"
     ]
    }
   ],
   "source": [
    "for x in data :\n",
    "    print(x,data[x],'\\n\\n')"
   ]
  },
  {
   "cell_type": "markdown",
   "id": "c168a475",
   "metadata": {},
   "source": [
    "#### Using just params"
   ]
  },
  {
   "cell_type": "code",
   "execution_count": 6,
   "id": "5865b49d",
   "metadata": {},
   "outputs": [],
   "source": [
    "fixed_variable = 'Param-Log10'\n",
    "targets = ['ARC', 'HELLASWAG', 'MMLU', 'TRUTHFULQA']"
   ]
  },
  {
   "cell_type": "code",
   "execution_count": 7,
   "id": "113e96ba",
   "metadata": {},
   "outputs": [
    {
     "name": "stdout",
     "output_type": "stream",
     "text": [
      "ARC 0.557\n",
      "HELLASWAG 0.671\n",
      "MMLU 0.359\n",
      "TRUTHFULQA 0.003\n"
     ]
    }
   ],
   "source": [
    "data = {}\n",
    "for test in targets:\n",
    "    record =  []\n",
    "    y = df[test]\n",
    "    \n",
    "    X = df[fixed_variable]\n",
    "    X = X.values.reshape(-1, 1)\n",
    "#         y = y.reshape(-1, 1)\n",
    "    lr = LinearRegression().fit(X,y)\n",
    "    r_square = round(lr.score(X,y),3)\n",
    "    \n",
    "    print(test,r_square )"
   ]
  },
  {
   "cell_type": "code",
   "execution_count": null,
   "id": "7d58521d",
   "metadata": {},
   "outputs": [],
   "source": []
  }
 ],
 "metadata": {
  "kernelspec": {
   "display_name": "Python 3 (ipykernel)",
   "language": "python",
   "name": "python3"
  },
  "language_info": {
   "codemirror_mode": {
    "name": "ipython",
    "version": 3
   },
   "file_extension": ".py",
   "mimetype": "text/x-python",
   "name": "python",
   "nbconvert_exporter": "python",
   "pygments_lexer": "ipython3",
   "version": "3.10.7"
  }
 },
 "nbformat": 4,
 "nbformat_minor": 5
}
